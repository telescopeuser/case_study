{
 "cells": [
  {
   "cell_type": "markdown",
   "metadata": {},
   "source": [
    "# 《实用金融数据科学》\n",
    "# 如何分析消费者对金融产品的投诉以及公司的应对（公司/分行层面）\n",
    "\n",
    "<img src = './ref/US Consumer Finance Complaints.jpg'>"
   ]
  },
  {
   "cell_type": "markdown",
   "metadata": {},
   "source": [
    "# US Consumer Finance Complaints\n",
    "### US consumer complaints on financial products and company responses\n",
    "\n",
    "原始数据和背景介绍：\n",
    "\n",
    "Original link and decription at https://www.kaggle.com/cfpb/us-consumer-finance-complaints\n"
   ]
  },
  {
   "cell_type": "code",
   "execution_count": 1,
   "metadata": {
    "collapsed": false,
    "scrolled": true
   },
   "outputs": [],
   "source": [
    "# KudosData.com - Python 2 compatibility\n",
    "# Force matplotlib to not use any Xwindows backend:\n",
    "\n",
    "# import matplotlib\n",
    "# matplotlib.use('Agg')\n",
    "\n",
    "# Python2 unicode & float-division support:\n",
    "# from __future__ import unicode_literals, division"
   ]
  },
  {
   "cell_type": "code",
   "execution_count": 2,
   "metadata": {
    "collapsed": false
   },
   "outputs": [],
   "source": [
    "from datetime import timedelta\n",
    "import seaborn as sns"
   ]
  },
  {
   "cell_type": "code",
   "execution_count": 3,
   "metadata": {
    "collapsed": false,
    "scrolled": true
   },
   "outputs": [],
   "source": [
    "%matplotlib inline\n",
    "import pandas as pd\n",
    "import numpy as np\n",
    "import matplotlib.pyplot as plt\n",
    "\n",
    "import jieba\n",
    "from sklearn.feature_extraction import DictVectorizer # 数据结构变换：把 Dict 转换为 稀疏矩阵\n",
    "from sklearn.linear_model import LogisticRegression  # 逻辑回归分类模型\n",
    "from sklearn.pipeline import make_pipeline # 封装机器学习模型流程\n",
    "from sklearn.metrics import confusion_matrix, roc_curve, auc\n",
    "\n",
    "from pylab import *  \n",
    "mpl.rcParams['font.sans-serif'] = ['SimHei']  \n",
    "mpl.rcParams['axes.unicode_minus'] = False \n",
    "mpl.rcParams['font.size'] = 14\n",
    "\n",
    "np.random.seed(88)"
   ]
  },
  {
   "cell_type": "markdown",
   "metadata": {},
   "source": [
    "# Exploratory Data Analysis (EDA)\n",
    "\n",
    "https://www.kaggle.com/mikevdickson/d/cfpb/us-consumer-finance-complaints/exploring-the-dataset\n",
    "\n",
    "https://www.kaggle.com/honestsoul/d/cfpb/us-consumer-finance-complaints/analyzing-consumer-complaints\n"
   ]
  },
  {
   "cell_type": "code",
   "execution_count": 4,
   "metadata": {
    "collapsed": true
   },
   "outputs": [],
   "source": [
    "import numpy as np # linear algebra\n",
    "import pandas as pd # data processing, CSV file I/O (e.g. pd.read_csv)\n",
    "# import matplotlib.pyplot as plt\n"
   ]
  },
  {
   "cell_type": "code",
   "execution_count": 5,
   "metadata": {
    "collapsed": false
   },
   "outputs": [
    {
     "name": "stderr",
     "output_type": "stream",
     "text": [
      "G:\\Tool_PGM\\Anaconda3\\lib\\site-packages\\IPython\\core\\interactiveshell.py:2902: DtypeWarning: Columns (5,11) have mixed types. Specify dtype option on import or set low_memory=False.\n",
      "  interactivity=interactivity, compiler=compiler, result=result)\n"
     ]
    }
   ],
   "source": [
    "# source = pd.read_csv('../input/consumer_complaints.csv')\n",
    "source = pd.read_csv('./consumer_complaints.csv')"
   ]
  },
  {
   "cell_type": "code",
   "execution_count": 6,
   "metadata": {
    "collapsed": false
   },
   "outputs": [
    {
     "name": "stdout",
     "output_type": "stream",
     "text": [
      "(555957, 18)\n"
     ]
    },
    {
     "data": {
      "text/html": [
       "<div>\n",
       "<table border=\"1\" class=\"dataframe\">\n",
       "  <thead>\n",
       "    <tr style=\"text-align: right;\">\n",
       "      <th></th>\n",
       "      <th>date_received</th>\n",
       "      <th>product</th>\n",
       "      <th>sub_product</th>\n",
       "      <th>issue</th>\n",
       "      <th>sub_issue</th>\n",
       "      <th>consumer_complaint_narrative</th>\n",
       "      <th>company_public_response</th>\n",
       "      <th>company</th>\n",
       "      <th>state</th>\n",
       "      <th>zipcode</th>\n",
       "      <th>tags</th>\n",
       "      <th>consumer_consent_provided</th>\n",
       "      <th>submitted_via</th>\n",
       "      <th>date_sent_to_company</th>\n",
       "      <th>company_response_to_consumer</th>\n",
       "      <th>timely_response</th>\n",
       "      <th>consumer_disputed?</th>\n",
       "      <th>complaint_id</th>\n",
       "    </tr>\n",
       "  </thead>\n",
       "  <tbody>\n",
       "    <tr>\n",
       "      <th>0</th>\n",
       "      <td>08/30/2013</td>\n",
       "      <td>Mortgage</td>\n",
       "      <td>Other mortgage</td>\n",
       "      <td>Loan modification,collection,foreclosure</td>\n",
       "      <td>NaN</td>\n",
       "      <td>NaN</td>\n",
       "      <td>NaN</td>\n",
       "      <td>U.S. Bancorp</td>\n",
       "      <td>CA</td>\n",
       "      <td>95993</td>\n",
       "      <td>NaN</td>\n",
       "      <td>NaN</td>\n",
       "      <td>Referral</td>\n",
       "      <td>09/03/2013</td>\n",
       "      <td>Closed with explanation</td>\n",
       "      <td>Yes</td>\n",
       "      <td>Yes</td>\n",
       "      <td>511074</td>\n",
       "    </tr>\n",
       "    <tr>\n",
       "      <th>1</th>\n",
       "      <td>08/30/2013</td>\n",
       "      <td>Mortgage</td>\n",
       "      <td>Other mortgage</td>\n",
       "      <td>Loan servicing, payments, escrow account</td>\n",
       "      <td>NaN</td>\n",
       "      <td>NaN</td>\n",
       "      <td>NaN</td>\n",
       "      <td>Wells Fargo &amp; Company</td>\n",
       "      <td>CA</td>\n",
       "      <td>91104</td>\n",
       "      <td>NaN</td>\n",
       "      <td>NaN</td>\n",
       "      <td>Referral</td>\n",
       "      <td>09/03/2013</td>\n",
       "      <td>Closed with explanation</td>\n",
       "      <td>Yes</td>\n",
       "      <td>Yes</td>\n",
       "      <td>511080</td>\n",
       "    </tr>\n",
       "    <tr>\n",
       "      <th>2</th>\n",
       "      <td>08/30/2013</td>\n",
       "      <td>Credit reporting</td>\n",
       "      <td>NaN</td>\n",
       "      <td>Incorrect information on credit report</td>\n",
       "      <td>Account status</td>\n",
       "      <td>NaN</td>\n",
       "      <td>NaN</td>\n",
       "      <td>Wells Fargo &amp; Company</td>\n",
       "      <td>NY</td>\n",
       "      <td>11764</td>\n",
       "      <td>NaN</td>\n",
       "      <td>NaN</td>\n",
       "      <td>Postal mail</td>\n",
       "      <td>09/18/2013</td>\n",
       "      <td>Closed with explanation</td>\n",
       "      <td>Yes</td>\n",
       "      <td>No</td>\n",
       "      <td>510473</td>\n",
       "    </tr>\n",
       "    <tr>\n",
       "      <th>3</th>\n",
       "      <td>08/30/2013</td>\n",
       "      <td>Student loan</td>\n",
       "      <td>Non-federal student loan</td>\n",
       "      <td>Repaying your loan</td>\n",
       "      <td>Repaying your loan</td>\n",
       "      <td>NaN</td>\n",
       "      <td>NaN</td>\n",
       "      <td>Navient Solutions, Inc.</td>\n",
       "      <td>MD</td>\n",
       "      <td>21402</td>\n",
       "      <td>NaN</td>\n",
       "      <td>NaN</td>\n",
       "      <td>Email</td>\n",
       "      <td>08/30/2013</td>\n",
       "      <td>Closed with explanation</td>\n",
       "      <td>Yes</td>\n",
       "      <td>Yes</td>\n",
       "      <td>510326</td>\n",
       "    </tr>\n",
       "    <tr>\n",
       "      <th>4</th>\n",
       "      <td>08/30/2013</td>\n",
       "      <td>Debt collection</td>\n",
       "      <td>Credit card</td>\n",
       "      <td>False statements or representation</td>\n",
       "      <td>Attempted to collect wrong amount</td>\n",
       "      <td>NaN</td>\n",
       "      <td>NaN</td>\n",
       "      <td>Resurgent Capital Services L.P.</td>\n",
       "      <td>GA</td>\n",
       "      <td>30106</td>\n",
       "      <td>NaN</td>\n",
       "      <td>NaN</td>\n",
       "      <td>Web</td>\n",
       "      <td>08/30/2013</td>\n",
       "      <td>Closed with explanation</td>\n",
       "      <td>Yes</td>\n",
       "      <td>Yes</td>\n",
       "      <td>511067</td>\n",
       "    </tr>\n",
       "  </tbody>\n",
       "</table>\n",
       "</div>"
      ],
      "text/plain": [
       "  date_received           product               sub_product  \\\n",
       "0    08/30/2013          Mortgage            Other mortgage   \n",
       "1    08/30/2013          Mortgage            Other mortgage   \n",
       "2    08/30/2013  Credit reporting                       NaN   \n",
       "3    08/30/2013      Student loan  Non-federal student loan   \n",
       "4    08/30/2013   Debt collection               Credit card   \n",
       "\n",
       "                                      issue  \\\n",
       "0  Loan modification,collection,foreclosure   \n",
       "1  Loan servicing, payments, escrow account   \n",
       "2    Incorrect information on credit report   \n",
       "3                        Repaying your loan   \n",
       "4        False statements or representation   \n",
       "\n",
       "                           sub_issue consumer_complaint_narrative  \\\n",
       "0                                NaN                          NaN   \n",
       "1                                NaN                          NaN   \n",
       "2                     Account status                          NaN   \n",
       "3                 Repaying your loan                          NaN   \n",
       "4  Attempted to collect wrong amount                          NaN   \n",
       "\n",
       "  company_public_response                          company state zipcode tags  \\\n",
       "0                     NaN                     U.S. Bancorp    CA   95993  NaN   \n",
       "1                     NaN            Wells Fargo & Company    CA   91104  NaN   \n",
       "2                     NaN            Wells Fargo & Company    NY   11764  NaN   \n",
       "3                     NaN          Navient Solutions, Inc.    MD   21402  NaN   \n",
       "4                     NaN  Resurgent Capital Services L.P.    GA   30106  NaN   \n",
       "\n",
       "  consumer_consent_provided submitted_via date_sent_to_company  \\\n",
       "0                       NaN      Referral           09/03/2013   \n",
       "1                       NaN      Referral           09/03/2013   \n",
       "2                       NaN   Postal mail           09/18/2013   \n",
       "3                       NaN         Email           08/30/2013   \n",
       "4                       NaN           Web           08/30/2013   \n",
       "\n",
       "  company_response_to_consumer timely_response consumer_disputed?  \\\n",
       "0      Closed with explanation             Yes                Yes   \n",
       "1      Closed with explanation             Yes                Yes   \n",
       "2      Closed with explanation             Yes                 No   \n",
       "3      Closed with explanation             Yes                Yes   \n",
       "4      Closed with explanation             Yes                Yes   \n",
       "\n",
       "   complaint_id  \n",
       "0        511074  \n",
       "1        511080  \n",
       "2        510473  \n",
       "3        510326  \n",
       "4        511067  "
      ]
     },
     "execution_count": 6,
     "metadata": {},
     "output_type": "execute_result"
    }
   ],
   "source": [
    "print(source.shape)\n",
    "source.head()"
   ]
  },
  {
   "cell_type": "code",
   "execution_count": 7,
   "metadata": {
    "collapsed": false
   },
   "outputs": [],
   "source": [
    "# data pre-processing\n",
    "data = source.copy()\n",
    "#Type casting\n",
    "data.rename(columns = {'consumer_disputed?':'consumer_disputed'},inplace = True)\n",
    "data['date_received'] = pd.to_datetime(data['date_received'], format='%m/%d/%Y')\n",
    "data['date_sent_to_company'] = pd.to_datetime(data['date_sent_to_company'], format='%m/%d/%Y')\n",
    "\n",
    "#Check size and dtypes\n",
    "# print(data.shape)\n",
    "# print('')\n",
    "# print(data.dtypes)"
   ]
  },
  {
   "cell_type": "code",
   "execution_count": 8,
   "metadata": {
    "collapsed": false
   },
   "outputs": [],
   "source": [
    "#CLEANING THE DATA\n",
    "\n",
    "#Correct dates where the submitted date is less than the received date by making submitted date = received date\n",
    "data['processing_time'] = data['date_sent_to_company']-data['date_received']\n",
    "data.loc[data['processing_time']<timedelta(days=0),'date_sent_to_company'] = data['date_received']\n",
    "data.drop('processing_time',axis=1, inplace=True)"
   ]
  },
  {
   "cell_type": "code",
   "execution_count": 9,
   "metadata": {
    "collapsed": true
   },
   "outputs": [],
   "source": [
    "#Features\n",
    "data['month_received'] = data['date_received'].dt.month\n",
    "data['year_received'] = data['date_received'].dt.year\n",
    "data['month_sent_to_company'] = data['date_sent_to_company'].dt.month\n",
    "data['year_sent_to_company'] = data['date_sent_to_company'].dt.year\n",
    "data['processing_time'] = data['date_sent_to_company']-data['date_received']\n",
    "\n",
    "\n",
    "A = [d.date() for d in data['date_received']]\n",
    "B = [d.date() for d in data['date_sent_to_company']]\n",
    "data['processing_time'] = np.busday_count(A, B)\n"
   ]
  },
  {
   "cell_type": "code",
   "execution_count": 10,
   "metadata": {
    "collapsed": false,
    "scrolled": false
   },
   "outputs": [
    {
     "data": {
      "text/html": [
       "<div>\n",
       "<table border=\"1\" class=\"dataframe\">\n",
       "  <thead>\n",
       "    <tr style=\"text-align: right;\">\n",
       "      <th></th>\n",
       "      <th>date_received</th>\n",
       "      <th>product</th>\n",
       "      <th>sub_product</th>\n",
       "      <th>issue</th>\n",
       "      <th>sub_issue</th>\n",
       "      <th>consumer_complaint_narrative</th>\n",
       "      <th>company_public_response</th>\n",
       "      <th>company</th>\n",
       "      <th>state</th>\n",
       "      <th>zipcode</th>\n",
       "      <th>...</th>\n",
       "      <th>company_response_to_consumer</th>\n",
       "      <th>timely_response</th>\n",
       "      <th>consumer_disputed</th>\n",
       "      <th>complaint_id</th>\n",
       "      <th>month_received</th>\n",
       "      <th>year_received</th>\n",
       "      <th>month_sent_to_company</th>\n",
       "      <th>year_sent_to_company</th>\n",
       "      <th>processing_time</th>\n",
       "      <th>days_factor</th>\n",
       "    </tr>\n",
       "  </thead>\n",
       "  <tbody>\n",
       "    <tr>\n",
       "      <th>0</th>\n",
       "      <td>2013-08-30</td>\n",
       "      <td>Mortgage</td>\n",
       "      <td>Other mortgage</td>\n",
       "      <td>Loan modification,collection,foreclosure</td>\n",
       "      <td>NaN</td>\n",
       "      <td>NaN</td>\n",
       "      <td>NaN</td>\n",
       "      <td>U.S. Bancorp</td>\n",
       "      <td>CA</td>\n",
       "      <td>95993</td>\n",
       "      <td>...</td>\n",
       "      <td>Closed with explanation</td>\n",
       "      <td>Yes</td>\n",
       "      <td>Yes</td>\n",
       "      <td>511074</td>\n",
       "      <td>8</td>\n",
       "      <td>2013</td>\n",
       "      <td>9</td>\n",
       "      <td>2013</td>\n",
       "      <td>2</td>\n",
       "      <td>1.000685</td>\n",
       "    </tr>\n",
       "    <tr>\n",
       "      <th>1</th>\n",
       "      <td>2013-08-30</td>\n",
       "      <td>Mortgage</td>\n",
       "      <td>Other mortgage</td>\n",
       "      <td>Loan servicing, payments, escrow account</td>\n",
       "      <td>NaN</td>\n",
       "      <td>NaN</td>\n",
       "      <td>NaN</td>\n",
       "      <td>Wells Fargo &amp; Company</td>\n",
       "      <td>CA</td>\n",
       "      <td>91104</td>\n",
       "      <td>...</td>\n",
       "      <td>Closed with explanation</td>\n",
       "      <td>Yes</td>\n",
       "      <td>Yes</td>\n",
       "      <td>511080</td>\n",
       "      <td>8</td>\n",
       "      <td>2013</td>\n",
       "      <td>9</td>\n",
       "      <td>2013</td>\n",
       "      <td>2</td>\n",
       "      <td>1.000685</td>\n",
       "    </tr>\n",
       "    <tr>\n",
       "      <th>2</th>\n",
       "      <td>2013-08-30</td>\n",
       "      <td>Credit reporting</td>\n",
       "      <td>NaN</td>\n",
       "      <td>Incorrect information on credit report</td>\n",
       "      <td>Account status</td>\n",
       "      <td>NaN</td>\n",
       "      <td>NaN</td>\n",
       "      <td>Wells Fargo &amp; Company</td>\n",
       "      <td>NY</td>\n",
       "      <td>11764</td>\n",
       "      <td>...</td>\n",
       "      <td>Closed with explanation</td>\n",
       "      <td>Yes</td>\n",
       "      <td>No</td>\n",
       "      <td>510473</td>\n",
       "      <td>8</td>\n",
       "      <td>2013</td>\n",
       "      <td>9</td>\n",
       "      <td>2013</td>\n",
       "      <td>13</td>\n",
       "      <td>1.000685</td>\n",
       "    </tr>\n",
       "    <tr>\n",
       "      <th>3</th>\n",
       "      <td>2013-08-30</td>\n",
       "      <td>Student loan</td>\n",
       "      <td>Non-federal student loan</td>\n",
       "      <td>Repaying your loan</td>\n",
       "      <td>Repaying your loan</td>\n",
       "      <td>NaN</td>\n",
       "      <td>NaN</td>\n",
       "      <td>Navient Solutions, Inc.</td>\n",
       "      <td>MD</td>\n",
       "      <td>21402</td>\n",
       "      <td>...</td>\n",
       "      <td>Closed with explanation</td>\n",
       "      <td>Yes</td>\n",
       "      <td>Yes</td>\n",
       "      <td>510326</td>\n",
       "      <td>8</td>\n",
       "      <td>2013</td>\n",
       "      <td>8</td>\n",
       "      <td>2013</td>\n",
       "      <td>0</td>\n",
       "      <td>1.000685</td>\n",
       "    </tr>\n",
       "    <tr>\n",
       "      <th>4</th>\n",
       "      <td>2013-08-30</td>\n",
       "      <td>Debt collection</td>\n",
       "      <td>Credit card</td>\n",
       "      <td>False statements or representation</td>\n",
       "      <td>Attempted to collect wrong amount</td>\n",
       "      <td>NaN</td>\n",
       "      <td>NaN</td>\n",
       "      <td>Resurgent Capital Services L.P.</td>\n",
       "      <td>GA</td>\n",
       "      <td>30106</td>\n",
       "      <td>...</td>\n",
       "      <td>Closed with explanation</td>\n",
       "      <td>Yes</td>\n",
       "      <td>Yes</td>\n",
       "      <td>511067</td>\n",
       "      <td>8</td>\n",
       "      <td>2013</td>\n",
       "      <td>8</td>\n",
       "      <td>2013</td>\n",
       "      <td>0</td>\n",
       "      <td>1.000685</td>\n",
       "    </tr>\n",
       "  </tbody>\n",
       "</table>\n",
       "<p>5 rows × 24 columns</p>\n",
       "</div>"
      ],
      "text/plain": [
       "  date_received           product               sub_product  \\\n",
       "0    2013-08-30          Mortgage            Other mortgage   \n",
       "1    2013-08-30          Mortgage            Other mortgage   \n",
       "2    2013-08-30  Credit reporting                       NaN   \n",
       "3    2013-08-30      Student loan  Non-federal student loan   \n",
       "4    2013-08-30   Debt collection               Credit card   \n",
       "\n",
       "                                      issue  \\\n",
       "0  Loan modification,collection,foreclosure   \n",
       "1  Loan servicing, payments, escrow account   \n",
       "2    Incorrect information on credit report   \n",
       "3                        Repaying your loan   \n",
       "4        False statements or representation   \n",
       "\n",
       "                           sub_issue consumer_complaint_narrative  \\\n",
       "0                                NaN                          NaN   \n",
       "1                                NaN                          NaN   \n",
       "2                     Account status                          NaN   \n",
       "3                 Repaying your loan                          NaN   \n",
       "4  Attempted to collect wrong amount                          NaN   \n",
       "\n",
       "  company_public_response                          company state zipcode  \\\n",
       "0                     NaN                     U.S. Bancorp    CA   95993   \n",
       "1                     NaN            Wells Fargo & Company    CA   91104   \n",
       "2                     NaN            Wells Fargo & Company    NY   11764   \n",
       "3                     NaN          Navient Solutions, Inc.    MD   21402   \n",
       "4                     NaN  Resurgent Capital Services L.P.    GA   30106   \n",
       "\n",
       "      ...      company_response_to_consumer timely_response consumer_disputed  \\\n",
       "0     ...           Closed with explanation             Yes               Yes   \n",
       "1     ...           Closed with explanation             Yes               Yes   \n",
       "2     ...           Closed with explanation             Yes                No   \n",
       "3     ...           Closed with explanation             Yes               Yes   \n",
       "4     ...           Closed with explanation             Yes               Yes   \n",
       "\n",
       "  complaint_id month_received year_received month_sent_to_company  \\\n",
       "0       511074              8          2013                     9   \n",
       "1       511080              8          2013                     9   \n",
       "2       510473              8          2013                     9   \n",
       "3       510326              8          2013                     8   \n",
       "4       511067              8          2013                     8   \n",
       "\n",
       "   year_sent_to_company  processing_time  days_factor  \n",
       "0                  2013                2     1.000685  \n",
       "1                  2013                2     1.000685  \n",
       "2                  2013               13     1.000685  \n",
       "3                  2013                0     1.000685  \n",
       "4                  2013                0     1.000685  \n",
       "\n",
       "[5 rows x 24 columns]"
      ]
     },
     "execution_count": 10,
     "metadata": {},
     "output_type": "execute_result"
    }
   ],
   "source": [
    "#More Features\n",
    "grp = data.groupby('year_received')\n",
    "days_factor = 365.25/(grp['date_received'].max()-grp['date_received'].min() + timedelta(days=1)).dt.days.astype('int')\n",
    "days_factor.name = 'days_factor'\n",
    "cleaned = data.join(days_factor,on='year_received',how='left')\n",
    "cleaned.head()\n"
   ]
  },
  {
   "cell_type": "code",
   "execution_count": 11,
   "metadata": {
    "collapsed": false,
    "scrolled": false
   },
   "outputs": [
    {
     "data": {
      "text/plain": [
       "<matplotlib.axes._subplots.AxesSubplot at 0x1f820227e80>"
      ]
     },
     "execution_count": 11,
     "metadata": {},
     "output_type": "execute_result"
    },
    {
     "data": {
      "image/png": "[encoded data removed]",
      "text/plain": [
       "<matplotlib.figure.Figure at 0x1f81fc740f0>"
      ]
     },
     "metadata": {},
     "output_type": "display_data"
    }
   ],
   "source": [
    "data = cleaned.copy()\n",
    "grp = data.groupby('year_received')\n",
    "grp.size().plot(kind='bar',title='Volume of Complaints by Year (2011/2016 partial) 中文')\n"
   ]
  },
  {
   "cell_type": "code",
   "execution_count": 12,
   "metadata": {
    "collapsed": false
   },
   "outputs": [
    {
     "data": {
      "text/plain": [
       "<matplotlib.axes._subplots.AxesSubplot at 0x1f826f37860>"
      ]
     },
     "execution_count": 12,
     "metadata": {},
     "output_type": "execute_result"
    },
    {
     "data": {
      "image/png": "[encoded data removed]",
      "text/plain": [
       "<matplotlib.figure.Figure at 0x1f821ad41d0>"
      ]
     },
     "metadata": {},
     "output_type": "display_data"
    }
   ],
   "source": [
    "grp = data.groupby('year_received')\n",
    "complaint_rate = grp.size().mul(grp['days_factor'].min())\n",
    "complaint_rate.plot(kind='bar',title='Rate of Complaints/Day by Year (2011/2016 partial) 中文')\n"
   ]
  },
  {
   "cell_type": "code",
   "execution_count": 13,
   "metadata": {
    "collapsed": false,
    "scrolled": false
   },
   "outputs": [
    {
     "data": {
      "text/plain": [
       "<matplotlib.axes._subplots.AxesSubplot at 0x1f821e73470>"
      ]
     },
     "execution_count": 13,
     "metadata": {},
     "output_type": "execute_result"
    },
    {
     "data": {
      "image/png": "[encoded data removed]",
      "text/plain": [
       "<matplotlib.figure.Figure at 0x1f821ebbe10>"
      ]
     },
     "metadata": {},
     "output_type": "display_data"
    }
   ],
   "source": [
    "mask = (data['year_received']>2011) & (data['year_received']<2016)\n",
    "grp = data[mask].groupby('month_received')\n",
    "grp.size().plot(kind='bar',title='Total Complaints by Month (2012-2015) 中文')\n"
   ]
  },
  {
   "cell_type": "code",
   "execution_count": 14,
   "metadata": {
    "collapsed": false,
    "scrolled": false
   },
   "outputs": [
    {
     "data": {
      "text/plain": [
       "<matplotlib.text.Text at 0x1f821f6c278>"
      ]
     },
     "execution_count": 14,
     "metadata": {},
     "output_type": "execute_result"
    },
    {
     "data": {
      "image/png": "[encoded data removed]",
      "text/plain": [
       "<matplotlib.figure.Figure at 0x1f821f08d68>"
      ]
     },
     "metadata": {},
     "output_type": "display_data"
    }
   ],
   "source": [
    "fig = plt.figure(figsize=(10,8))\n",
    "ax = fig.add_subplot(1,1,1)\n",
    "years = np.arange(2011,2017,1)\n",
    "color = sns.color_palette(\"hls\", 6)\n",
    "for y in years:\n",
    "    processing_time_counts = data[data['year_received']==y]['processing_time'].value_counts().sort_index()\n",
    "    total = sum(processing_time_counts)\n",
    "    processing_time_counts_CDF = processing_time_counts.cumsum()/total\n",
    "    ax.plot(processing_time_counts_CDF.index.values.astype('timedelta64[D]'),processing_time_counts_CDF.values,label=y,color=color[y-2011])\n",
    "    #ax = processing_time_counts_CDF.plot(kind='line',title='Processing Time CDF',xlim=(0,14),ylim=(0,1))\n",
    "\n",
    "\n",
    "ax.axis([0,14,0,1])\n",
    "ax.legend(loc='best')\n",
    "ax.set_xlabel('Business Days 处理工作日')\n",
    "fig.suptitle('Procesing Time CDF 累积密度函数')\n"
   ]
  },
  {
   "cell_type": "code",
   "execution_count": 15,
   "metadata": {
    "collapsed": false,
    "scrolled": false
   },
   "outputs": [
    {
     "data": {
      "image/png": "[encoded data removed]",
      "text/plain": [
       "<matplotlib.figure.Figure at 0x1f821f16198>"
      ]
     },
     "metadata": {},
     "output_type": "display_data"
    }
   ],
   "source": [
    "processing_time_counts = data['processing_time'].value_counts().sort_index()\n",
    "total = sum(processing_time_counts)\n",
    "processing_time_counts_CDF = processing_time_counts.cumsum()/total\n",
    "ax = processing_time_counts_CDF.plot(kind='line',title='Processing Time CDF 中文',xlim=(0,14),ylim=(0,1))\n"
   ]
  },
  {
   "cell_type": "markdown",
   "metadata": {},
   "source": [
    "# Let's look at complaints against Company and Product:"
   ]
  },
  {
   "cell_type": "code",
   "execution_count": 16,
   "metadata": {
    "collapsed": false,
    "scrolled": false
   },
   "outputs": [
    {
     "data": {
      "text/plain": [
       "<matplotlib.axes._subplots.AxesSubplot at 0x1f822132f98>"
      ]
     },
     "execution_count": 16,
     "metadata": {},
     "output_type": "execute_result"
    },
    {
     "data": {
      "image/png": "[encoded data removed]",
      "text/plain": [
       "<matplotlib.figure.Figure at 0x1f82213e6d8>"
      ]
     },
     "metadata": {},
     "output_type": "display_data"
    }
   ],
   "source": [
    "grp = data.groupby('company')\n",
    "grp = grp.size().sort_values(ascending=False)\n",
    "#top10 = grp[10::-1]\n",
    "top10 = (grp[:500])[::-1]\n",
    "top10.plot(kind='barh',title='Most Common Companies to Complaint Against 中文')\n"
   ]
  },
  {
   "cell_type": "code",
   "execution_count": 17,
   "metadata": {
    "collapsed": false,
    "scrolled": true
   },
   "outputs": [
    {
     "data": {
      "text/plain": [
       "<matplotlib.axes._subplots.AxesSubplot at 0x1f821f086a0>"
      ]
     },
     "execution_count": 17,
     "metadata": {},
     "output_type": "execute_result"
    },
    {
     "data": {
      "image/png": "[encoded data removed]",
      "text/plain": [
       "<matplotlib.figure.Figure at 0x1f82026bc18>"
      ]
     },
     "metadata": {},
     "output_type": "display_data"
    }
   ],
   "source": [
    "grp = data.groupby('company')\n",
    "grp = grp.size().sort_values(ascending=False)\n",
    "#top10 = grp[10::-1]\n",
    "top10 = (grp[:10])[::-1]\n",
    "top10.plot(kind='barh',title='Most Common Companies to Complaint Against 中文')\n"
   ]
  },
  {
   "cell_type": "code",
   "execution_count": 18,
   "metadata": {
    "collapsed": false
   },
   "outputs": [
    {
     "data": {
      "text/plain": [
       "<matplotlib.axes._subplots.AxesSubplot at 0x1f8205d8780>"
      ]
     },
     "execution_count": 18,
     "metadata": {},
     "output_type": "execute_result"
    },
    {
     "data": {
      "image/png": "[encoded data removed]",
      "text/plain": [
       "<matplotlib.figure.Figure at 0x1f83036a9e8>"
      ]
     },
     "metadata": {},
     "output_type": "display_data"
    }
   ],
   "source": [
    "data['product'].unique()\n",
    "data.groupby('product').size().sort_values().plot(kind='barh',title='product complaints 中文')\n"
   ]
  },
  {
   "cell_type": "code",
   "execution_count": 19,
   "metadata": {
    "collapsed": false
   },
   "outputs": [
    {
     "data": {
      "text/plain": [
       "<matplotlib.axes._subplots.AxesSubplot at 0x1f8302ce198>"
      ]
     },
     "execution_count": 19,
     "metadata": {},
     "output_type": "execute_result"
    },
    {
     "data": {
      "image/png": "[encoded data removed]",
      "text/plain": [
       "<matplotlib.figure.Figure at 0x1f827296630>"
      ]
     },
     "metadata": {},
     "output_type": "display_data"
    }
   ],
   "source": [
    "# data['sub_product'].unique()\n",
    "data.groupby('sub_product').size().sort_values()[0:20].plot(kind='barh',title='Top 20 sub_product complaints 中文')\n"
   ]
  },
  {
   "cell_type": "code",
   "execution_count": 20,
   "metadata": {
    "collapsed": false,
    "scrolled": true
   },
   "outputs": [
    {
     "data": {
      "text/plain": [
       "<matplotlib.axes._subplots.AxesSubplot at 0x1f8304adba8>"
      ]
     },
     "execution_count": 20,
     "metadata": {},
     "output_type": "execute_result"
    },
    {
     "data": {
      "image/png": "[encoded data removed]",
      "text/plain": [
       "<matplotlib.figure.Figure at 0x1f820334588>"
      ]
     },
     "metadata": {},
     "output_type": "display_data"
    }
   ],
   "source": [
    "# data['company_response_to_consumer'].unique()\n",
    "data.groupby('company_response_to_consumer').size().sort_values().plot(kind='barh',title='company response to consumer distribution 中文')\n"
   ]
  },
  {
   "cell_type": "code",
   "execution_count": 21,
   "metadata": {
    "collapsed": false,
    "scrolled": false
   },
   "outputs": [
    {
     "data": {
      "text/html": [
       "<div>\n",
       "<table border=\"1\" class=\"dataframe\">\n",
       "  <thead>\n",
       "    <tr style=\"text-align: right;\">\n",
       "      <th>consumer_disputed</th>\n",
       "      <th>No</th>\n",
       "      <th>Yes</th>\n",
       "    </tr>\n",
       "    <tr>\n",
       "      <th>company_response_to_consumer</th>\n",
       "      <th></th>\n",
       "      <th></th>\n",
       "    </tr>\n",
       "  </thead>\n",
       "  <tbody>\n",
       "    <tr>\n",
       "      <th>Closed</th>\n",
       "      <td>10490</td>\n",
       "      <td>2909</td>\n",
       "    </tr>\n",
       "    <tr>\n",
       "      <th>Closed with explanation</th>\n",
       "      <td>313815</td>\n",
       "      <td>90478</td>\n",
       "    </tr>\n",
       "    <tr>\n",
       "      <th>Closed with monetary relief</th>\n",
       "      <td>34054</td>\n",
       "      <td>4208</td>\n",
       "    </tr>\n",
       "    <tr>\n",
       "      <th>Closed with non-monetary relief</th>\n",
       "      <td>61265</td>\n",
       "      <td>8972</td>\n",
       "    </tr>\n",
       "    <tr>\n",
       "      <th>Closed with relief</th>\n",
       "      <td>4591</td>\n",
       "      <td>714</td>\n",
       "    </tr>\n",
       "    <tr>\n",
       "      <th>Closed without relief</th>\n",
       "      <td>13058</td>\n",
       "      <td>4851</td>\n",
       "    </tr>\n",
       "    <tr>\n",
       "      <th>In progress</th>\n",
       "      <td>3763</td>\n",
       "      <td>NaN</td>\n",
       "    </tr>\n",
       "    <tr>\n",
       "      <th>Untimely response</th>\n",
       "      <td>2787</td>\n",
       "      <td>2</td>\n",
       "    </tr>\n",
       "  </tbody>\n",
       "</table>\n",
       "</div>"
      ],
      "text/plain": [
       "consumer_disputed                    No    Yes\n",
       "company_response_to_consumer                  \n",
       "Closed                            10490   2909\n",
       "Closed with explanation          313815  90478\n",
       "Closed with monetary relief       34054   4208\n",
       "Closed with non-monetary relief   61265   8972\n",
       "Closed with relief                 4591    714\n",
       "Closed without relief             13058   4851\n",
       "In progress                        3763    NaN\n",
       "Untimely response                  2787      2"
      ]
     },
     "execution_count": 21,
     "metadata": {},
     "output_type": "execute_result"
    }
   ],
   "source": [
    "grp = data.pivot_table(index='company_response_to_consumer',columns='consumer_disputed',values='date_received',aggfunc='count')\n",
    "grp"
   ]
  },
  {
   "cell_type": "code",
   "execution_count": 22,
   "metadata": {
    "collapsed": false
   },
   "outputs": [
    {
     "data": {
      "text/plain": [
       "<matplotlib.axes._subplots.AxesSubplot at 0x1f83074a7f0>"
      ]
     },
     "execution_count": 22,
     "metadata": {},
     "output_type": "execute_result"
    },
    {
     "data": {
      "image/png": "[encoded data removed]",
      "text/plain": [
       "<matplotlib.figure.Figure at 0x1f83075bc88>"
      ]
     },
     "metadata": {},
     "output_type": "display_data"
    }
   ],
   "source": [
    "grp.plot(kind='barh',stacked=True, title='Customer Dispute by Response 中文')\n"
   ]
  },
  {
   "cell_type": "code",
   "execution_count": 23,
   "metadata": {
    "collapsed": false
   },
   "outputs": [
    {
     "data": {
      "text/plain": [
       "<matplotlib.axes._subplots.AxesSubplot at 0x1f830843860>"
      ]
     },
     "execution_count": 23,
     "metadata": {},
     "output_type": "execute_result"
    },
    {
     "data": {
      "image/png": "[encoded data removed]",
      "text/plain": [
       "<matplotlib.figure.Figure at 0x1f8307fc7f0>"
      ]
     },
     "metadata": {},
     "output_type": "display_data"
    }
   ],
   "source": [
    "pct = grp['Yes']/(grp['No']+grp['Yes'])\n",
    "pct.plot(kind='barh',title='Customer Dispute Rate by Response 中文')\n"
   ]
  },
  {
   "cell_type": "code",
   "execution_count": 24,
   "metadata": {
    "collapsed": false
   },
   "outputs": [
    {
     "data": {
      "text/plain": [
       "<matplotlib.axes._subplots.AxesSubplot at 0x1f830864358>"
      ]
     },
     "execution_count": 24,
     "metadata": {},
     "output_type": "execute_result"
    },
    {
     "data": {
      "image/png": "[encoded data removed]",
      "text/plain": [
       "<matplotlib.figure.Figure at 0x1f8308bba90>"
      ]
     },
     "metadata": {},
     "output_type": "display_data"
    }
   ],
   "source": [
    "grp = data.groupby('submitted_via')\n",
    "grp.size().sort_values().plot(kind='barh',title='Preferred Complaint Methods 中文')\n"
   ]
  },
  {
   "cell_type": "code",
   "execution_count": 25,
   "metadata": {
    "collapsed": false,
    "scrolled": false
   },
   "outputs": [
    {
     "data": {
      "text/plain": [
       "<matplotlib.legend.Legend at 0x1f830970898>"
      ]
     },
     "execution_count": 25,
     "metadata": {},
     "output_type": "execute_result"
    },
    {
     "data": {
      "image/png": "[encoded data removed]",
      "text/plain": [
       "<matplotlib.figure.Figure at 0x1f82064ff28>"
      ]
     },
     "metadata": {},
     "output_type": "display_data"
    }
   ],
   "source": [
    "grp = data.groupby(['company','year_received'])\n",
    "grp = grp.size().mul(grp['days_factor'].min()).unstack().fillna(0)\n",
    "grp['total'] = grp.sum(axis=1)\n",
    "grp = grp.sort_values('total',ascending=False)\n",
    "grp = grp.div(grp['total'].max(), axis=0)\n",
    "grp = grp.drop('total',axis=1)\n",
    "top10 = (grp[:10])[::-1]\n",
    "ind = np.arange(10)\n",
    "series1 = top10.loc[:,2011].values\n",
    "cumulative = top10.cumsum(axis=1)\n",
    "color = sns.color_palette(\"hls\", 6)\n",
    "plt.figure(figsize=(12,6))\n",
    "for i in np.arange(5,-1,-1):\n",
    "    plt.barh(ind, cumulative.iloc[:,i], color=color[i], label=2011+i)\n",
    "    \n",
    "plt.yticks(ind + .85/2., top10.index)\n",
    "plt.title('Most Common Companies to Complain Against, Annual Trend 中文')\n",
    "plt.legend(loc='best')\n"
   ]
  },
  {
   "cell_type": "markdown",
   "metadata": {},
   "source": [
    "# Company Comparisons in Terms of Customer Satisfaction\n",
    "\n",
    "this is just showing number of complained resolved where customers have not disputed.We need to do more to find the best and worst companies when it comes to customer services."
   ]
  },
  {
   "cell_type": "code",
   "execution_count": 26,
   "metadata": {
    "collapsed": true
   },
   "outputs": [],
   "source": [
    "complain_flag = '1'*len(data['state'])\n",
    "data['complains'] = [ int(x) for x in complain_flag if not x  == ',']"
   ]
  },
  {
   "cell_type": "code",
   "execution_count": 27,
   "metadata": {
    "collapsed": false
   },
   "outputs": [],
   "source": [
    "data['percent_resolution'] = np.where((data.timely_response.str.contains('Yes') & data.consumer_disputed.str.contains('No')), 1, 0)\n",
    "data_best_cc = data.groupby('company').aggregate(np.sum)\n",
    "data_best_cc.drop('complaint_id', axis = 1, inplace =  True)\n",
    "data_best_cc['percent_resolution'] = data_best_cc['percent_resolution']/data_best_cc['complains']\n",
    "data_best_cc['percent_resolution']  = data_best_cc['percent_resolution'] .apply(lambda x : float(x*100))"
   ]
  },
  {
   "cell_type": "code",
   "execution_count": 28,
   "metadata": {
    "collapsed": false
   },
   "outputs": [
    {
     "data": {
      "text/html": [
       "<div>\n",
       "<table border=\"1\" class=\"dataframe\">\n",
       "  <thead>\n",
       "    <tr style=\"text-align: right;\">\n",
       "      <th></th>\n",
       "      <th>percent_resolution</th>\n",
       "      <th>complains</th>\n",
       "    </tr>\n",
       "    <tr>\n",
       "      <th>company</th>\n",
       "      <th></th>\n",
       "      <th></th>\n",
       "    </tr>\n",
       "  </thead>\n",
       "  <tbody>\n",
       "    <tr>\n",
       "      <th>Experian</th>\n",
       "      <td>87.390390</td>\n",
       "      <td>30905</td>\n",
       "    </tr>\n",
       "    <tr>\n",
       "      <th>TransUnion Intermediate Holdings, Inc.</th>\n",
       "      <td>85.023890</td>\n",
       "      <td>25534</td>\n",
       "    </tr>\n",
       "    <tr>\n",
       "      <th>Synchrony Financial</th>\n",
       "      <td>85.013249</td>\n",
       "      <td>9435</td>\n",
       "    </tr>\n",
       "    <tr>\n",
       "      <th>Navient Solutions, Inc.</th>\n",
       "      <td>81.116523</td>\n",
       "      <td>8007</td>\n",
       "    </tr>\n",
       "    <tr>\n",
       "      <th>Capital One</th>\n",
       "      <td>80.918864</td>\n",
       "      <td>15628</td>\n",
       "    </tr>\n",
       "    <tr>\n",
       "      <th>Encore Capital Group</th>\n",
       "      <td>80.805838</td>\n",
       "      <td>6304</td>\n",
       "    </tr>\n",
       "    <tr>\n",
       "      <th>PNC Bank N.A.</th>\n",
       "      <td>79.997132</td>\n",
       "      <td>6974</td>\n",
       "    </tr>\n",
       "    <tr>\n",
       "      <th>Equifax</th>\n",
       "      <td>79.115873</td>\n",
       "      <td>31828</td>\n",
       "    </tr>\n",
       "    <tr>\n",
       "      <th>Citibank</th>\n",
       "      <td>78.312451</td>\n",
       "      <td>25540</td>\n",
       "    </tr>\n",
       "    <tr>\n",
       "      <th>Ditech Financial LLC</th>\n",
       "      <td>77.635672</td>\n",
       "      <td>8679</td>\n",
       "    </tr>\n",
       "    <tr>\n",
       "      <th>JPMorgan Chase &amp; Co.</th>\n",
       "      <td>77.028423</td>\n",
       "      <td>33881</td>\n",
       "    </tr>\n",
       "    <tr>\n",
       "      <th>U.S. Bancorp</th>\n",
       "      <td>76.795060</td>\n",
       "      <td>9554</td>\n",
       "    </tr>\n",
       "    <tr>\n",
       "      <th>Wells Fargo &amp; Company</th>\n",
       "      <td>76.342090</td>\n",
       "      <td>42024</td>\n",
       "    </tr>\n",
       "    <tr>\n",
       "      <th>HSBC North America Holdings Inc.</th>\n",
       "      <td>76.132686</td>\n",
       "      <td>6180</td>\n",
       "    </tr>\n",
       "    <tr>\n",
       "      <th>Bank of America</th>\n",
       "      <td>75.445552</td>\n",
       "      <td>55998</td>\n",
       "    </tr>\n",
       "    <tr>\n",
       "      <th>Nationstar Mortgage</th>\n",
       "      <td>75.411321</td>\n",
       "      <td>13250</td>\n",
       "    </tr>\n",
       "    <tr>\n",
       "      <th>Ocwen</th>\n",
       "      <td>73.734388</td>\n",
       "      <td>20978</td>\n",
       "    </tr>\n",
       "    <tr>\n",
       "      <th>Amex</th>\n",
       "      <td>72.670376</td>\n",
       "      <td>5752</td>\n",
       "    </tr>\n",
       "  </tbody>\n",
       "</table>\n",
       "</div>"
      ],
      "text/plain": [
       "                                        percent_resolution  complains\n",
       "company                                                              \n",
       "Experian                                         87.390390      30905\n",
       "TransUnion Intermediate Holdings, Inc.           85.023890      25534\n",
       "Synchrony Financial                              85.013249       9435\n",
       "Navient Solutions, Inc.                          81.116523       8007\n",
       "Capital One                                      80.918864      15628\n",
       "Encore Capital Group                             80.805838       6304\n",
       "PNC Bank N.A.                                    79.997132       6974\n",
       "Equifax                                          79.115873      31828\n",
       "Citibank                                         78.312451      25540\n",
       "Ditech Financial LLC                             77.635672       8679\n",
       "JPMorgan Chase & Co.                             77.028423      33881\n",
       "U.S. Bancorp                                     76.795060       9554\n",
       "Wells Fargo & Company                            76.342090      42024\n",
       "HSBC North America Holdings Inc.                 76.132686       6180\n",
       "Bank of America                                  75.445552      55998\n",
       "Nationstar Mortgage                              75.411321      13250\n",
       "Ocwen                                            73.734388      20978\n",
       "Amex                                             72.670376       5752"
      ]
     },
     "execution_count": 28,
     "metadata": {},
     "output_type": "execute_result"
    }
   ],
   "source": [
    "data_best_cc= data_best_cc[data_best_cc['complains'] >= 5000].sort_values('percent_resolution', ascending = False)\n",
    "data_best_cc[['percent_resolution', 'complains']]"
   ]
  },
  {
   "cell_type": "code",
   "execution_count": 29,
   "metadata": {
    "collapsed": false
   },
   "outputs": [
    {
     "data": {
      "text/plain": [
       "<matplotlib.axes._subplots.AxesSubplot at 0x1f8308b8c50>"
      ]
     },
     "execution_count": 29,
     "metadata": {},
     "output_type": "execute_result"
    },
    {
     "data": {
      "image/png": "[encoded data removed]",
      "text/plain": [
       "<matplotlib.figure.Figure at 0x1f82213e6a0>"
      ]
     },
     "metadata": {},
     "output_type": "display_data"
    }
   ],
   "source": [
    "data_best_cc['percent_resolution'].sort_values().plot(kind = 'barh')\n",
    "# data_best_cc['percent_resolution'].plot(kind = 'barh')"
   ]
  },
  {
   "cell_type": "markdown",
   "metadata": {},
   "source": [
    "# What's the insight? Experian is the compnay when it comes to customer satisfaction."
   ]
  },
  {
   "cell_type": "code",
   "execution_count": null,
   "metadata": {
    "collapsed": true
   },
   "outputs": [],
   "source": []
  },
  {
   "cell_type": "markdown",
   "metadata": {},
   "source": [
    "# Basic Language Analysis of Customer Complaint\n",
    "\n",
    "https://www.kaggle.com/mchirico/d/cfpb/us-consumer-finance-complaints/analyzing-text-in-consumer-complaints/comments"
   ]
  },
  {
   "cell_type": "code",
   "execution_count": 30,
   "metadata": {
    "collapsed": false
   },
   "outputs": [],
   "source": [
    "# Read in data from pandas\n",
    "# import pandas as pd\n",
    "\n",
    "# This is used for fast string concatination\n",
    "from io import StringIO, BytesIO\n",
    "\n",
    "# Use nltk for valid words\n",
    "import nltk\n",
    "# Need to make hash 'dictionaries' from nltk for fast processing\n",
    "import collections as co\n",
    "\n",
    "\n",
    "import warnings # current version of seaborn generates a bunch of warnings that we'll ignore\n",
    "warnings.filterwarnings(\"ignore\")\n",
    "# import seaborn as sns\n",
    "# import matplotlib.pyplot as plt\n",
    "sns.set(style=\"white\", color_codes=True)\n",
    "\n",
    "# Read the input\n",
    "# d = pd.read_csv(\"./consumer_complaints.csv\") # the consumer dataset is now a Pandas DataFrame\n",
    "d = data # the consumer dataset is now a Pandas DataFrame\n",
    "\n",
    "# Only interested in data with consumer complaints\n",
    "d=d[d['consumer_complaint_narrative'].notnull()]"
   ]
  },
  {
   "cell_type": "code",
   "execution_count": 31,
   "metadata": {
    "collapsed": false
   },
   "outputs": [
    {
     "name": "stdout",
     "output_type": "stream",
     "text": [
      "Out of 555957 complaints, there are 66806 complaints with detailed customer narratives.\n"
     ]
    }
   ],
   "source": [
    "print ('Out of %d complaints, there are %d complaints with detailed customer narratives.' % (len(data), len(d)))"
   ]
  },
  {
   "cell_type": "code",
   "execution_count": 32,
   "metadata": {
    "collapsed": false
   },
   "outputs": [
    {
     "name": "stdout",
     "output_type": "stream",
     "text": [
      "(66806, 26)\n"
     ]
    },
    {
     "data": {
      "text/html": [
       "<div>\n",
       "<table border=\"1\" class=\"dataframe\">\n",
       "  <thead>\n",
       "    <tr style=\"text-align: right;\">\n",
       "      <th></th>\n",
       "      <th>date_received</th>\n",
       "      <th>product</th>\n",
       "      <th>sub_product</th>\n",
       "      <th>issue</th>\n",
       "      <th>sub_issue</th>\n",
       "      <th>consumer_complaint_narrative</th>\n",
       "      <th>company_public_response</th>\n",
       "      <th>company</th>\n",
       "      <th>state</th>\n",
       "      <th>zipcode</th>\n",
       "      <th>...</th>\n",
       "      <th>consumer_disputed</th>\n",
       "      <th>complaint_id</th>\n",
       "      <th>month_received</th>\n",
       "      <th>year_received</th>\n",
       "      <th>month_sent_to_company</th>\n",
       "      <th>year_sent_to_company</th>\n",
       "      <th>processing_time</th>\n",
       "      <th>days_factor</th>\n",
       "      <th>complains</th>\n",
       "      <th>percent_resolution</th>\n",
       "    </tr>\n",
       "  </thead>\n",
       "  <tbody>\n",
       "    <tr>\n",
       "      <th>190126</th>\n",
       "      <td>2015-03-19</td>\n",
       "      <td>Debt collection</td>\n",
       "      <td>Other (i.e. phone, health club, etc.)</td>\n",
       "      <td>Cont'd attempts collect debt not owed</td>\n",
       "      <td>Debt was paid</td>\n",
       "      <td>XXXX has claimed I owe them {$27.00} for XXXX ...</td>\n",
       "      <td>NaN</td>\n",
       "      <td>Diversified Consultants, Inc.</td>\n",
       "      <td>NY</td>\n",
       "      <td>121XX</td>\n",
       "      <td>...</td>\n",
       "      <td>No</td>\n",
       "      <td>1290516</td>\n",
       "      <td>3</td>\n",
       "      <td>2015</td>\n",
       "      <td>3</td>\n",
       "      <td>2015</td>\n",
       "      <td>0</td>\n",
       "      <td>1.000685</td>\n",
       "      <td>1</td>\n",
       "      <td>1</td>\n",
       "    </tr>\n",
       "    <tr>\n",
       "      <th>190135</th>\n",
       "      <td>2015-03-19</td>\n",
       "      <td>Consumer Loan</td>\n",
       "      <td>Vehicle loan</td>\n",
       "      <td>Managing the loan or lease</td>\n",
       "      <td>NaN</td>\n",
       "      <td>Due to inconsistencies in the amount owed that...</td>\n",
       "      <td>NaN</td>\n",
       "      <td>M&amp;T Bank Corporation</td>\n",
       "      <td>VA</td>\n",
       "      <td>221XX</td>\n",
       "      <td>...</td>\n",
       "      <td>No</td>\n",
       "      <td>1290492</td>\n",
       "      <td>3</td>\n",
       "      <td>2015</td>\n",
       "      <td>3</td>\n",
       "      <td>2015</td>\n",
       "      <td>0</td>\n",
       "      <td>1.000685</td>\n",
       "      <td>1</td>\n",
       "      <td>1</td>\n",
       "    </tr>\n",
       "    <tr>\n",
       "      <th>190155</th>\n",
       "      <td>2015-03-19</td>\n",
       "      <td>Mortgage</td>\n",
       "      <td>Conventional fixed mortgage</td>\n",
       "      <td>Loan modification,collection,foreclosure</td>\n",
       "      <td>NaN</td>\n",
       "      <td>In XX/XX/XXXX my wages that I earned at my job...</td>\n",
       "      <td>NaN</td>\n",
       "      <td>Wells Fargo &amp; Company</td>\n",
       "      <td>CA</td>\n",
       "      <td>946XX</td>\n",
       "      <td>...</td>\n",
       "      <td>Yes</td>\n",
       "      <td>1290524</td>\n",
       "      <td>3</td>\n",
       "      <td>2015</td>\n",
       "      <td>3</td>\n",
       "      <td>2015</td>\n",
       "      <td>0</td>\n",
       "      <td>1.000685</td>\n",
       "      <td>1</td>\n",
       "      <td>0</td>\n",
       "    </tr>\n",
       "    <tr>\n",
       "      <th>190207</th>\n",
       "      <td>2015-03-19</td>\n",
       "      <td>Mortgage</td>\n",
       "      <td>Conventional fixed mortgage</td>\n",
       "      <td>Loan servicing, payments, escrow account</td>\n",
       "      <td>NaN</td>\n",
       "      <td>I have an open and current mortgage with Chase...</td>\n",
       "      <td>NaN</td>\n",
       "      <td>JPMorgan Chase &amp; Co.</td>\n",
       "      <td>CA</td>\n",
       "      <td>900XX</td>\n",
       "      <td>...</td>\n",
       "      <td>Yes</td>\n",
       "      <td>1290253</td>\n",
       "      <td>3</td>\n",
       "      <td>2015</td>\n",
       "      <td>3</td>\n",
       "      <td>2015</td>\n",
       "      <td>0</td>\n",
       "      <td>1.000685</td>\n",
       "      <td>1</td>\n",
       "      <td>0</td>\n",
       "    </tr>\n",
       "    <tr>\n",
       "      <th>190208</th>\n",
       "      <td>2015-03-19</td>\n",
       "      <td>Mortgage</td>\n",
       "      <td>Conventional fixed mortgage</td>\n",
       "      <td>Credit decision / Underwriting</td>\n",
       "      <td>NaN</td>\n",
       "      <td>XXXX was submitted XX/XX/XXXX. At the time I s...</td>\n",
       "      <td>NaN</td>\n",
       "      <td>Rushmore Loan Management Services LLC</td>\n",
       "      <td>CA</td>\n",
       "      <td>956XX</td>\n",
       "      <td>...</td>\n",
       "      <td>Yes</td>\n",
       "      <td>1292137</td>\n",
       "      <td>3</td>\n",
       "      <td>2015</td>\n",
       "      <td>3</td>\n",
       "      <td>2015</td>\n",
       "      <td>0</td>\n",
       "      <td>1.000685</td>\n",
       "      <td>1</td>\n",
       "      <td>0</td>\n",
       "    </tr>\n",
       "  </tbody>\n",
       "</table>\n",
       "<p>5 rows × 26 columns</p>\n",
       "</div>"
      ],
      "text/plain": [
       "       date_received          product                            sub_product  \\\n",
       "190126    2015-03-19  Debt collection  Other (i.e. phone, health club, etc.)   \n",
       "190135    2015-03-19    Consumer Loan                           Vehicle loan   \n",
       "190155    2015-03-19         Mortgage            Conventional fixed mortgage   \n",
       "190207    2015-03-19         Mortgage            Conventional fixed mortgage   \n",
       "190208    2015-03-19         Mortgage            Conventional fixed mortgage   \n",
       "\n",
       "                                           issue      sub_issue  \\\n",
       "190126     Cont'd attempts collect debt not owed  Debt was paid   \n",
       "190135                Managing the loan or lease            NaN   \n",
       "190155  Loan modification,collection,foreclosure            NaN   \n",
       "190207  Loan servicing, payments, escrow account            NaN   \n",
       "190208            Credit decision / Underwriting            NaN   \n",
       "\n",
       "                             consumer_complaint_narrative  \\\n",
       "190126  XXXX has claimed I owe them {$27.00} for XXXX ...   \n",
       "190135  Due to inconsistencies in the amount owed that...   \n",
       "190155  In XX/XX/XXXX my wages that I earned at my job...   \n",
       "190207  I have an open and current mortgage with Chase...   \n",
       "190208  XXXX was submitted XX/XX/XXXX. At the time I s...   \n",
       "\n",
       "       company_public_response                                company state  \\\n",
       "190126                     NaN          Diversified Consultants, Inc.    NY   \n",
       "190135                     NaN                   M&T Bank Corporation    VA   \n",
       "190155                     NaN                  Wells Fargo & Company    CA   \n",
       "190207                     NaN                   JPMorgan Chase & Co.    CA   \n",
       "190208                     NaN  Rushmore Loan Management Services LLC    CA   \n",
       "\n",
       "       zipcode         ...         consumer_disputed complaint_id  \\\n",
       "190126   121XX         ...                        No      1290516   \n",
       "190135   221XX         ...                        No      1290492   \n",
       "190155   946XX         ...                       Yes      1290524   \n",
       "190207   900XX         ...                       Yes      1290253   \n",
       "190208   956XX         ...                       Yes      1292137   \n",
       "\n",
       "       month_received year_received month_sent_to_company  \\\n",
       "190126              3          2015                     3   \n",
       "190135              3          2015                     3   \n",
       "190155              3          2015                     3   \n",
       "190207              3          2015                     3   \n",
       "190208              3          2015                     3   \n",
       "\n",
       "       year_sent_to_company processing_time  days_factor  complains  \\\n",
       "190126                 2015               0     1.000685          1   \n",
       "190135                 2015               0     1.000685          1   \n",
       "190155                 2015               0     1.000685          1   \n",
       "190207                 2015               0     1.000685          1   \n",
       "190208                 2015               0     1.000685          1   \n",
       "\n",
       "        percent_resolution  \n",
       "190126                   1  \n",
       "190135                   1  \n",
       "190155                   0  \n",
       "190207                   0  \n",
       "190208                   0  \n",
       "\n",
       "[5 rows x 26 columns]"
      ]
     },
     "execution_count": 32,
     "metadata": {},
     "output_type": "execute_result"
    }
   ],
   "source": [
    "print(shape(d))\n",
    "d.head()"
   ]
  },
  {
   "cell_type": "code",
   "execution_count": 33,
   "metadata": {
    "collapsed": false
   },
   "outputs": [],
   "source": [
    "# We want a very fast way to concat strings.\n",
    "#  Try += if you don't believe this method is faster.\n",
    "\n",
    "\n",
    "# Python3\n",
    "s=StringIO()\n",
    "# Python2\n",
    "# s=BytesIO()\n",
    "\n",
    "d['consumer_complaint_narrative'].apply(lambda x: s.write(x))\n",
    "\n",
    "k=s.getvalue()\n",
    "s.close()\n",
    "k=k.lower()\n",
    "k=k.split()"
   ]
  },
  {
   "cell_type": "code",
   "execution_count": 34,
   "metadata": {
    "collapsed": false
   },
   "outputs": [],
   "source": [
    "# nltk.download()"
   ]
  },
  {
   "cell_type": "code",
   "execution_count": 35,
   "metadata": {
    "collapsed": false
   },
   "outputs": [],
   "source": [
    "# Next only want valid strings\n",
    "words = co.Counter(nltk.corpus.words.words())\n",
    "stopWords =co.Counter( nltk.corpus.stopwords.words() )\n",
    "k=[i for i in k if i in words and i not in stopWords]\n",
    "s=\" \".join(k)\n",
    "c = co.Counter(k)"
   ]
  },
  {
   "cell_type": "markdown",
   "metadata": {},
   "source": [
    "### At this point we have k,s and c\n",
    "\n",
    "k Array of words, with stop words removed\n",
    "\n",
    "s Concatinated string of all comments\n",
    "\n",
    "c Collection of words"
   ]
  },
  {
   "cell_type": "code",
   "execution_count": 36,
   "metadata": {
    "collapsed": false
   },
   "outputs": [
    {
     "data": {
      "text/plain": [
       "[('credit', 82342),\n",
       " ('account', 58454),\n",
       " ('would', 47840),\n",
       " ('loan', 39920),\n",
       " ('bank', 37751),\n",
       " ('told', 36548),\n",
       " ('payment', 36509),\n",
       " ('received', 30722),\n",
       " ('debt', 27829),\n",
       " ('mortgage', 27401),\n",
       " ('never', 25973),\n",
       " ('information', 25223),\n",
       " ('pay', 24479),\n",
       " ('get', 24163),\n",
       " ('company', 23792)]"
      ]
     },
     "execution_count": 36,
     "metadata": {},
     "output_type": "execute_result"
    }
   ],
   "source": [
    "# Take a look at the 14 most common words\n",
    "c.most_common(15)"
   ]
  },
  {
   "cell_type": "code",
   "execution_count": 37,
   "metadata": {
    "collapsed": false
   },
   "outputs": [
    {
     "name": "stdout",
     "output_type": "stream",
     "text": [
      "owe despite proof payment sent check invoice continue insist owe collection stop harassment bill alr\n",
      "\n",
      "Length of s: 26048491\n"
     ]
    }
   ],
   "source": [
    "print(s[0:100])\n",
    "print('')\n",
    "print('Length of s: %s' % len(s))"
   ]
  },
  {
   "cell_type": "code",
   "execution_count": 38,
   "metadata": {
    "collapsed": false
   },
   "outputs": [
    {
     "name": "stdout",
     "output_type": "stream",
     "text": [
      "['owe', 'despite', 'proof', 'payment', 'sent', 'check', 'invoice', 'continue', 'insist', 'owe']\n",
      "\n",
      "Length of k: 3707242\n"
     ]
    }
   ],
   "source": [
    "print(k[0:10])\n",
    "print('')\n",
    "print('Length of k: %s' % len(k))"
   ]
  },
  {
   "cell_type": "code",
   "execution_count": 39,
   "metadata": {
    "collapsed": false
   },
   "outputs": [
    {
     "name": "stdout",
     "output_type": "stream",
     "text": [
      "Length of c: 13962\n"
     ]
    }
   ],
   "source": [
    "print('Length of c: %s' % len(c)) # No. of unique words !"
   ]
  },
  {
   "cell_type": "markdown",
   "metadata": {},
   "source": [
    "### Word Cloud\n",
    "\n",
    "At this point we have some data, so it might be a good idea to take a look at it."
   ]
  },
  {
   "cell_type": "code",
   "execution_count": 41,
   "metadata": {
    "collapsed": false
   },
   "outputs": [
    {
     "ename": "ImportError",
     "evalue": "No module named 'wordcloud'",
     "output_type": "error",
     "traceback": [
      "\u001b[1;31m---------------------------------------------------------------------------\u001b[0m",
      "\u001b[1;31mImportError\u001b[0m                               Traceback (most recent call last)",
      "\u001b[1;32m<ipython-input-41-4bd70e860a63>\u001b[0m in \u001b[0;36m<module>\u001b[1;34m()\u001b[0m\n\u001b[1;32m----> 1\u001b[1;33m \u001b[1;32mfrom\u001b[0m \u001b[0mwordcloud\u001b[0m \u001b[1;32mimport\u001b[0m \u001b[0mWordCloud\u001b[0m\u001b[1;33m\u001b[0m\u001b[0m\n\u001b[0m\u001b[0;32m      2\u001b[0m \u001b[1;33m\u001b[0m\u001b[0m\n\u001b[0;32m      3\u001b[0m \u001b[1;31m# Read the whole text.\u001b[0m\u001b[1;33m\u001b[0m\u001b[1;33m\u001b[0m\u001b[0m\n\u001b[0;32m      4\u001b[0m \u001b[0mtext\u001b[0m \u001b[1;33m=\u001b[0m \u001b[0ms\u001b[0m\u001b[1;33m\u001b[0m\u001b[0m\n\u001b[0;32m      5\u001b[0m \u001b[1;33m\u001b[0m\u001b[0m\n",
      "\u001b[1;31mImportError\u001b[0m: No module named 'wordcloud'"
     ]
    }
   ],
   "source": [
    "from wordcloud import WordCloud\n",
    "\n",
    "# Read the whole text.\n",
    "text = s\n",
    "\n",
    "# Generate a word cloud image\n",
    "wordcloud = WordCloud().generate(text)\n",
    "\n",
    "# Display the generated image:\n",
    "# the matplotlib way:\n",
    "# import matplotlib.pyplot as plt\n",
    "\n",
    "\n",
    "# take relative word frequencies into account, lower max_font_size\n",
    "wordcloud = WordCloud(background_color=\"white\",max_words=len(k),max_font_size=40, relative_scaling=.8).generate(text)\n",
    "plt.figure(figsize=(12,8))\n",
    "plt.imshow(wordcloud)\n",
    "plt.axis(\"off\")\n",
    "plt.title('World Cloud 词云')\n",
    "# plt.legend(loc='best')\n",
    "plt.show()"
   ]
  },
  {
   "cell_type": "markdown",
   "metadata": {},
   "source": [
    "### Taking a look at their stories\n",
    "\n",
    "These stories claim to involve identity theft and or fraud."
   ]
  },
  {
   "cell_type": "code",
   "execution_count": 42,
   "metadata": {
    "collapsed": false
   },
   "outputs": [
    {
     "name": "stdout",
     "output_type": "stream",
     "text": [
      "\n",
      "No. <identity theft complaints> consumer narratives: 505\n",
      "\n",
      "I am a victim of identity theft and I received and alert that a new unknownaccount appeared on my credit. I called Equifax and was told that I could not launch a dispute over the phone and was advised to fax my information over againalong with the police report that is already on file and include the newaccount. To date, both Equifax has not removed the account!!!! \n",
      "XXXX XXXX XXXX Account Number XXXX \n",
      "\n",
      "___\n",
      "\n",
      "I was a victim of identity theft and this account needs to be removed asap this account is fraudulent and continued attempts to collect is harrasment please help me in getting this resolved. \n",
      "\n",
      "___\n",
      "\n",
      "I am a victim of identity theft and Equifax refuses to assist me in making sure my credit profile is accurate. I have several records as proof. \n",
      "\n",
      "I am trying to repair the damage done to my credit due to identity theft. I have been disputing information for several years and this credit bureau has been extremely uncooperative and frustrating for the past XXXX years. I am unable to log onto my account because the security questions asked are inaccurate ( due to ID theft ). When I call Equifax, I am unable to speak with a live person for assistance. I was able to speak with an Equifax agent via chat who was unwilling to assist me ( I added attachment log ). When I send disputes via certified mail along with a copy of my drivers license and current address, I either receive no response or I receive a response which states they are unable to process my request. \n",
      "The Fair Credit Reporting Act Section 607 Compliance procedures [ 15 U.S.C. 1681e ] section B states ; Whenever a consumer reporting agency prepares a consumer report it shall follow reasonable procedures to assure maximum possible accuracy of the information concerning the individual about whom the report relates. \n",
      "\n",
      "I would like a copy of my Equifax credit report. I would like to speak with a LIVE person so I can dispute and freeze/unfreeze my credit. I would also like an account missing from my credit report added to my credit profile. The FCRA states in back and white that I should have all of these abilities. I need my credit report to be accurate in order to live a productive life. I am unable to open a loan to buy a home or vehicle. I am unable to open a credit card or establish credit. This has become mortifying and I if no action is taken I will have to seek out an attorney. Please help. \n",
      "\n",
      "___\n",
      "\n",
      "My wife and I were victims of tax fraud. When we discovered this, we immediately did credit freezes on our credit files for all XXXX credit bureaus. We were charged for XXXX credit freezes. Per Texas law, if a credit freeze is initiated due to identity theft, the credit freezes should be free. I did not want to wait a week or more to generate a police report, get a copy and then send it in to the credit bureaus for a free report. Instead, I did the credit freezes immediately. I then requested refunds from the credit bureaus due to identity theft. XXXX issues refunds immediately. XXXX refunds are in process. Transunion, on the other hand, had refused, saying that the only way you can get a free credit freeze is by submitting a police report at the time you have requested the credit freeze. First of all, when you have become a victim of identity theft, you want to deal with it right away, and deal with the refunds later. Second, it would take up to a week to process the police report and get it to them to do the credit freeze. During that week, how many times might your credit report be used without your permission since someone now has your social security number? I believe, and will always believe, that we are due a refund. I will attempt to dispute the charge with my credit card but am not optimistic. \n",
      "\n",
      "___\n",
      "\n",
      "I have placed an initial fraud alert with the credit bureaus since I have been the victim of identity theft. Experian will not give me a credit report for free as the victim of fraud. They either direct me to a page to pay for my report or to XXXX.com. Since I am the victim of fraud I am due a free report without using my free annual request. \n",
      "\n",
      "___\n",
      "\n",
      "\n"
     ]
    }
   ],
   "source": [
    "# Let's get some text involving identity theft\n",
    "searchS='victim of identity theft'\n",
    "\n",
    "\n",
    "# Python3\n",
    "vi = d[d['consumer_complaint_narrative'].str.find(searchS) >= 0]\n",
    "\n",
    "# Python2\n",
    "# vi = d[d['consumer_complaint_narrative'].str.find(searchS.encode('utf8')) >= 0]\n",
    "\n",
    "\n",
    "print('\\nNo. <identity theft complaints> consumer narratives: %d\\n' % len(vi.index))\n",
    "\n",
    "d['ID Victim']=None\n",
    "d['Complts']=1\n",
    "d['Money Relief']=None  # This will be for 'Closed with monetary relief'\n",
    "\n",
    "\n",
    "# Python3\n",
    "d['ID Victim'] = d[d['consumer_complaint_narrative'].str.find(searchS) >= 0]\n",
    "# Python2\n",
    "# d['ID Victim'] = d[d['consumer_complaint_narrative'].str.find(searchS.encode('utf8')) >= 0]\n",
    "\n",
    "d['Money Relief']=d[d['company_response_to_consumer'] == 'Closed with monetary relief']\n",
    "\n",
    "\n",
    "# Take a look at some sample stories  mindex to mindex_inc\n",
    "# Adjust this, to see different stories\n",
    "mindex=20\n",
    "mindex_inc=5+mindex\n",
    "si=StringIO()\n",
    "vi['consumer_complaint_narrative'].iloc[mindex:mindex_inc].apply(lambda x: si.write(x+'\\n___\\n\\n'))\n",
    "\n",
    "t=si.getvalue()\n",
    "si.close()\n",
    "print(t)"
   ]
  },
  {
   "cell_type": "code",
   "execution_count": 43,
   "metadata": {
    "collapsed": false
   },
   "outputs": [],
   "source": [
    "# We might be missing data on just fraud...\n",
    "# Search for all cases of theft or fraud\n",
    "searchS0='victim'\n",
    "searchS1='identity'\n",
    "searchS_OR=['theft','fraud']\n",
    "\n",
    "\n",
    "# Python3\n",
    "vi2 = d[(d['consumer_complaint_narrative'].str.find(searchS0) >= 0) &\n",
    "        (d['consumer_complaint_narrative'].str.find(searchS1) >= 0) &\n",
    "       ((d['consumer_complaint_narrative'].str.find(searchS_OR[0]) >= 0) |\n",
    "        (d['consumer_complaint_narrative'].str.find(searchS_OR[1]) >= 0))\n",
    "        ]\n",
    "# Python2\n",
    "# vi2 = d[(d['consumer_complaint_narrative'].str.find(searchS0.encode('utf8')) >= 0) &\n",
    "#         (d['consumer_complaint_narrative'].str.find(searchS1.encode('utf8')) >= 0) &\n",
    "#        ((d['consumer_complaint_narrative'].str.find(searchS_OR[0].encode('utf8')) >= 0) |\n",
    "#         (d['consumer_complaint_narrative'].str.find(searchS_OR[1].encode('utf8')) >= 0))\n",
    "#         ]"
   ]
  },
  {
   "cell_type": "code",
   "execution_count": 44,
   "metadata": {
    "collapsed": false
   },
   "outputs": [],
   "source": [
    "# vi2.count()\n",
    "\n",
    "g=vi2.groupby(['issue'])\n",
    "gg=g.count().reset_index()\n",
    "gg.sort_values(by='Complts',inplace=True)\n",
    "gg=g['Complts','ID Victim','Money Relief'].count().reset_index()\n",
    "gg.sort_values(by='Complts',inplace=True, ascending=False)"
   ]
  },
  {
   "cell_type": "code",
   "execution_count": 49,
   "metadata": {
    "collapsed": false
   },
   "outputs": [
    {
     "data": {
      "text/plain": [
       "41"
      ]
     },
     "execution_count": 49,
     "metadata": {},
     "output_type": "execute_result"
    }
   ],
   "source": [
    "len(gg) # No. unique issues"
   ]
  },
  {
   "cell_type": "code",
   "execution_count": 50,
   "metadata": {
    "collapsed": false
   },
   "outputs": [
    {
     "name": "stdout",
     "output_type": "stream",
     "text": [
      "                                       issue  Complts  ID Victim  Money Relief\n",
      "24    Incorrect information on credit report      242        169             0\n",
      "9      Cont'd attempts collect debt not owed      155        137             1\n",
      "21     Identity theft / Fraud / Embezzlement       53         41             9\n",
      "0    Account opening, closing, or management       35         28             1\n",
      "14  Credit reporting company's investigation       29         18             0\n",
      "37  Unable to get credit report/credit score       22         18             1\n",
      "13  Credit monitoring or identity protection       18         14             1\n",
      "17                  Deposits and withdrawals       13          6             2\n",
      "23          Improper use of my credit report       11          8             1\n",
      "18           Disclosure verification of debt       10          8             0\n",
      "..                                       ...      ...        ...           ...\n",
      "35              Taking out the loan or lease        2          1             0\n",
      "5                          Billing statement        1          1             0\n",
      "3                                 Bankruptcy        1          0             0\n",
      "38   Unauthorized transactions/trans. issues        1          0             0\n",
      "2                                Arbitration        1          0             0\n",
      "32       Problems when you are unable to pay        1          1             0\n",
      "34              Shopping for a loan or lease        1          0             0\n",
      "6                       Can't contact lender        1          1             0\n",
      "11            Credit decision / Underwriting        1          0             0\n",
      "28               Managing the line of credit        1          1             0\n",
      "\n",
      "[41 rows x 4 columns]\n"
     ]
    }
   ],
   "source": [
    "# Taking a look at common complaints\n",
    "# Need to format this...but note only 9 cases where it\n",
    "# was \"Closed with monetary relief\"  m==1\n",
    "\n",
    "#gg.head(4)\n",
    "with pd.option_context('display.max_rows', 20, 'display.max_columns', 4):\n",
    "    print(gg)"
   ]
  },
  {
   "cell_type": "code",
   "execution_count": null,
   "metadata": {
    "collapsed": true
   },
   "outputs": [],
   "source": []
  },
  {
   "cell_type": "markdown",
   "metadata": {},
   "source": [
    "# Advanced Language Analysis of Customer Complaint\n",
    "\n",
    "https://www.kaggle.com/mmrosenb/d/cfpb/us-consumer-finance-complaints/language-analysis"
   ]
  },
  {
   "cell_type": "code",
   "execution_count": 51,
   "metadata": {
    "collapsed": true
   },
   "outputs": [],
   "source": [
    "#imports\n",
    "\n",
    "# import numpy as np\n",
    "# import pandas as pd\n",
    "# import nltk\n",
    "import collections as co\n",
    "\n",
    "# Python 3\n",
    "# from io import StringIO\n",
    "# Python 2\n",
    "# from io import BytesIO\n",
    "\n",
    "# import matplotlib.pyplot as plt\n",
    "import warnings\n",
    "from IPython.display import display, HTML, Markdown, display\n",
    "\n",
    "#constants\n",
    "# %matplotlib inline\n",
    "def printmd(string):\n",
    "    display(Markdown(string))\n",
    "alphaLev = .5"
   ]
  },
  {
   "cell_type": "code",
   "execution_count": 52,
   "metadata": {
    "collapsed": false
   },
   "outputs": [],
   "source": [
    "#load in dataset\n",
    "# complaintFrame = pd.read_csv(\"./consumer_complaints.csv\")\n",
    "complaintFrame = data"
   ]
  },
  {
   "cell_type": "code",
   "execution_count": 53,
   "metadata": {
    "collapsed": false
   },
   "outputs": [
    {
     "data": {
      "text/html": [
       "<div>\n",
       "<table border=\"1\" class=\"dataframe\">\n",
       "  <thead>\n",
       "    <tr style=\"text-align: right;\">\n",
       "      <th></th>\n",
       "      <th>date_received</th>\n",
       "      <th>product</th>\n",
       "      <th>sub_product</th>\n",
       "      <th>issue</th>\n",
       "      <th>sub_issue</th>\n",
       "      <th>consumer_complaint_narrative</th>\n",
       "      <th>company_public_response</th>\n",
       "      <th>company</th>\n",
       "      <th>state</th>\n",
       "      <th>zipcode</th>\n",
       "      <th>...</th>\n",
       "      <th>consumer_disputed</th>\n",
       "      <th>complaint_id</th>\n",
       "      <th>month_received</th>\n",
       "      <th>year_received</th>\n",
       "      <th>month_sent_to_company</th>\n",
       "      <th>year_sent_to_company</th>\n",
       "      <th>processing_time</th>\n",
       "      <th>days_factor</th>\n",
       "      <th>complains</th>\n",
       "      <th>percent_resolution</th>\n",
       "    </tr>\n",
       "  </thead>\n",
       "  <tbody>\n",
       "    <tr>\n",
       "      <th>0</th>\n",
       "      <td>2013-08-30</td>\n",
       "      <td>Mortgage</td>\n",
       "      <td>Other mortgage</td>\n",
       "      <td>Loan modification,collection,foreclosure</td>\n",
       "      <td>NaN</td>\n",
       "      <td>NaN</td>\n",
       "      <td>NaN</td>\n",
       "      <td>U.S. Bancorp</td>\n",
       "      <td>CA</td>\n",
       "      <td>95993</td>\n",
       "      <td>...</td>\n",
       "      <td>Yes</td>\n",
       "      <td>511074</td>\n",
       "      <td>8</td>\n",
       "      <td>2013</td>\n",
       "      <td>9</td>\n",
       "      <td>2013</td>\n",
       "      <td>2</td>\n",
       "      <td>1.000685</td>\n",
       "      <td>1</td>\n",
       "      <td>0</td>\n",
       "    </tr>\n",
       "    <tr>\n",
       "      <th>1</th>\n",
       "      <td>2013-08-30</td>\n",
       "      <td>Mortgage</td>\n",
       "      <td>Other mortgage</td>\n",
       "      <td>Loan servicing, payments, escrow account</td>\n",
       "      <td>NaN</td>\n",
       "      <td>NaN</td>\n",
       "      <td>NaN</td>\n",
       "      <td>Wells Fargo &amp; Company</td>\n",
       "      <td>CA</td>\n",
       "      <td>91104</td>\n",
       "      <td>...</td>\n",
       "      <td>Yes</td>\n",
       "      <td>511080</td>\n",
       "      <td>8</td>\n",
       "      <td>2013</td>\n",
       "      <td>9</td>\n",
       "      <td>2013</td>\n",
       "      <td>2</td>\n",
       "      <td>1.000685</td>\n",
       "      <td>1</td>\n",
       "      <td>0</td>\n",
       "    </tr>\n",
       "    <tr>\n",
       "      <th>2</th>\n",
       "      <td>2013-08-30</td>\n",
       "      <td>Credit reporting</td>\n",
       "      <td>NaN</td>\n",
       "      <td>Incorrect information on credit report</td>\n",
       "      <td>Account status</td>\n",
       "      <td>NaN</td>\n",
       "      <td>NaN</td>\n",
       "      <td>Wells Fargo &amp; Company</td>\n",
       "      <td>NY</td>\n",
       "      <td>11764</td>\n",
       "      <td>...</td>\n",
       "      <td>No</td>\n",
       "      <td>510473</td>\n",
       "      <td>8</td>\n",
       "      <td>2013</td>\n",
       "      <td>9</td>\n",
       "      <td>2013</td>\n",
       "      <td>13</td>\n",
       "      <td>1.000685</td>\n",
       "      <td>1</td>\n",
       "      <td>1</td>\n",
       "    </tr>\n",
       "    <tr>\n",
       "      <th>3</th>\n",
       "      <td>2013-08-30</td>\n",
       "      <td>Student loan</td>\n",
       "      <td>Non-federal student loan</td>\n",
       "      <td>Repaying your loan</td>\n",
       "      <td>Repaying your loan</td>\n",
       "      <td>NaN</td>\n",
       "      <td>NaN</td>\n",
       "      <td>Navient Solutions, Inc.</td>\n",
       "      <td>MD</td>\n",
       "      <td>21402</td>\n",
       "      <td>...</td>\n",
       "      <td>Yes</td>\n",
       "      <td>510326</td>\n",
       "      <td>8</td>\n",
       "      <td>2013</td>\n",
       "      <td>8</td>\n",
       "      <td>2013</td>\n",
       "      <td>0</td>\n",
       "      <td>1.000685</td>\n",
       "      <td>1</td>\n",
       "      <td>0</td>\n",
       "    </tr>\n",
       "    <tr>\n",
       "      <th>4</th>\n",
       "      <td>2013-08-30</td>\n",
       "      <td>Debt collection</td>\n",
       "      <td>Credit card</td>\n",
       "      <td>False statements or representation</td>\n",
       "      <td>Attempted to collect wrong amount</td>\n",
       "      <td>NaN</td>\n",
       "      <td>NaN</td>\n",
       "      <td>Resurgent Capital Services L.P.</td>\n",
       "      <td>GA</td>\n",
       "      <td>30106</td>\n",
       "      <td>...</td>\n",
       "      <td>Yes</td>\n",
       "      <td>511067</td>\n",
       "      <td>8</td>\n",
       "      <td>2013</td>\n",
       "      <td>8</td>\n",
       "      <td>2013</td>\n",
       "      <td>0</td>\n",
       "      <td>1.000685</td>\n",
       "      <td>1</td>\n",
       "      <td>0</td>\n",
       "    </tr>\n",
       "  </tbody>\n",
       "</table>\n",
       "<p>5 rows × 26 columns</p>\n",
       "</div>"
      ],
      "text/plain": [
       "  date_received           product               sub_product  \\\n",
       "0    2013-08-30          Mortgage            Other mortgage   \n",
       "1    2013-08-30          Mortgage            Other mortgage   \n",
       "2    2013-08-30  Credit reporting                       NaN   \n",
       "3    2013-08-30      Student loan  Non-federal student loan   \n",
       "4    2013-08-30   Debt collection               Credit card   \n",
       "\n",
       "                                      issue  \\\n",
       "0  Loan modification,collection,foreclosure   \n",
       "1  Loan servicing, payments, escrow account   \n",
       "2    Incorrect information on credit report   \n",
       "3                        Repaying your loan   \n",
       "4        False statements or representation   \n",
       "\n",
       "                           sub_issue consumer_complaint_narrative  \\\n",
       "0                                NaN                          NaN   \n",
       "1                                NaN                          NaN   \n",
       "2                     Account status                          NaN   \n",
       "3                 Repaying your loan                          NaN   \n",
       "4  Attempted to collect wrong amount                          NaN   \n",
       "\n",
       "  company_public_response                          company state zipcode  \\\n",
       "0                     NaN                     U.S. Bancorp    CA   95993   \n",
       "1                     NaN            Wells Fargo & Company    CA   91104   \n",
       "2                     NaN            Wells Fargo & Company    NY   11764   \n",
       "3                     NaN          Navient Solutions, Inc.    MD   21402   \n",
       "4                     NaN  Resurgent Capital Services L.P.    GA   30106   \n",
       "\n",
       "          ...         consumer_disputed complaint_id month_received  \\\n",
       "0         ...                       Yes       511074              8   \n",
       "1         ...                       Yes       511080              8   \n",
       "2         ...                        No       510473              8   \n",
       "3         ...                       Yes       510326              8   \n",
       "4         ...                       Yes       511067              8   \n",
       "\n",
       "  year_received month_sent_to_company year_sent_to_company processing_time  \\\n",
       "0          2013                     9                 2013               2   \n",
       "1          2013                     9                 2013               2   \n",
       "2          2013                     9                 2013              13   \n",
       "3          2013                     8                 2013               0   \n",
       "4          2013                     8                 2013               0   \n",
       "\n",
       "   days_factor  complains  percent_resolution  \n",
       "0     1.000685          1                   0  \n",
       "1     1.000685          1                   0  \n",
       "2     1.000685          1                   1  \n",
       "3     1.000685          1                   0  \n",
       "4     1.000685          1                   0  \n",
       "\n",
       "[5 rows x 26 columns]"
      ]
     },
     "execution_count": 53,
     "metadata": {},
     "output_type": "execute_result"
    }
   ],
   "source": [
    "complaintFrame.head()"
   ]
  },
  {
   "cell_type": "markdown",
   "metadata": {},
   "source": [
    "# CFPB Consumer Complaints: Language Analysis\n",
    "\n",
    "In this notebook, I will perform Exploratory Data Analysis (EDA) and language analysis on the text-sensitive data found in the [CFPB Consumer Complaints](https://www.kaggle.com/cfpb/us-consumer-finance-complaints) dataset. You can find my analysis on the non-text-sensitve EDA within [this script](https://www.kaggle.com/mmrosenb/d/cfpb/us-consumer-finance-complaints/eda-on-consumer-complaints). As we saw in some summary statistics within that script, about $432499$ observations do not have text-sensitive data, which makes this section a general down-sizing our sample. That being said, this section potentially carries the most important aspects of the consumer complaint.\n",
    "\n",
    "We will start by pre-processing our text data. Some of the code below is adapted from [Mike Chirico's EDA](https://www.kaggle.com/mchirico/d/cfpb/us-consumer-finance-complaints/analyzing-text-in-consumer-complaints)."
   ]
  },
  {
   "cell_type": "code",
   "execution_count": 54,
   "metadata": {
    "collapsed": false
   },
   "outputs": [],
   "source": [
    "#consider only narrative observations\n",
    "complaintNarrativeFrame = complaintFrame[complaintFrame[\"consumer_complaint_narrative\"].notnull()]\n",
    "complaintNarrativeFrame.reset_index\n",
    "# build a fast way to get strings\n",
    "# adapted from \n",
    "# https://www.kaggle.com/mchirico/d/cfpb/us-consumer-finance-complaints/analyzing-text-in-consumer-complaints\n",
    "\n",
    "# Python 3\n",
    "s = StringIO()\n",
    "# Python 2\n",
    "# s = BytesIO()\n",
    "\n",
    "complaintNarrativeFrame[\"consumer_complaint_narrative\"].apply(lambda x: s.write(x))\n",
    "k=s.getvalue()\n",
    "s.close()\n",
    "# memory constraint:\n",
    "k=k.lower()\n",
    "k=k.split()"
   ]
  },
  {
   "cell_type": "code",
   "execution_count": 55,
   "metadata": {
    "collapsed": false
   },
   "outputs": [],
   "source": [
    "complaintNarrativeFrame = complaintNarrativeFrame.reset_index()\n",
    "# complaintNarrativeFrame.head()"
   ]
  },
  {
   "cell_type": "code",
   "execution_count": 56,
   "metadata": {
    "collapsed": false
   },
   "outputs": [
    {
     "data": {
      "text/markdown": [
       "We see that we $3707242$ legal word tokens in our corpus. There are $13962$ legal non-stopword types in our corpus."
      ],
      "text/plain": [
       "<IPython.core.display.Markdown object>"
      ]
     },
     "metadata": {},
     "output_type": "display_data"
    }
   ],
   "source": [
    "# Next only want valid strings\n",
    "words = co.Counter(nltk.corpus.words.words())\n",
    "stopWords =co.Counter( nltk.corpus.stopwords.words() )\n",
    "k=[i for i in k if i in words and i not in stopWords]\n",
    "c = co.Counter(k)\n",
    "printmd(\"We see that we $\" + str(len(k)) + \"$ legal word tokens in our corpus. There are $\" + str(\n",
    "        len(list(c.most_common())))\n",
    "       + \"$ legal non-stopword types in our corpus.\")"
   ]
  },
  {
   "cell_type": "markdown",
   "metadata": {},
   "source": [
    "As discussed on [Mike Chirico's EDA](https://www.kaggle.com/mchirico/d/cfpb/us-consumer-finance-complaints/analyzing-text-in-consumer-complaints), `k` represents the array of all legal words with stopwords removed for the sentences concatenated, and `c` represents  a per-word counter over the legal words within our dataset. Let us take a look at the rank-frequency graph of our vocabulary, the $15$ most common words, and the $15$ least common words."
   ]
  },
  {
   "cell_type": "code",
   "execution_count": 57,
   "metadata": {
    "collapsed": false
   },
   "outputs": [
    {
     "data": {
      "image/png": "[encoded data removed]",
      "text/plain": [
       "<matplotlib.figure.Figure at 0x1f8328d29b0>"
      ]
     },
     "metadata": {},
     "output_type": "display_data"
    },
    {
     "data": {
      "text/markdown": [
       "_Figure 1: Frequency-Rank Graphs of Our Vocabulary._ 中文"
      ],
      "text/plain": [
       "<IPython.core.display.Markdown object>"
      ]
     },
     "metadata": {},
     "output_type": "display_data"
    },
    {
     "data": {
      "text/html": [
       "<div>\n",
       "<table border=\"1\" class=\"dataframe\">\n",
       "  <thead>\n",
       "    <tr style=\"text-align: right;\">\n",
       "      <th></th>\n",
       "      <th>Word</th>\n",
       "      <th>Frequency</th>\n",
       "    </tr>\n",
       "  </thead>\n",
       "  <tbody>\n",
       "    <tr>\n",
       "      <th>0</th>\n",
       "      <td>credit</td>\n",
       "      <td>82342</td>\n",
       "    </tr>\n",
       "    <tr>\n",
       "      <th>1</th>\n",
       "      <td>account</td>\n",
       "      <td>58454</td>\n",
       "    </tr>\n",
       "    <tr>\n",
       "      <th>2</th>\n",
       "      <td>would</td>\n",
       "      <td>47840</td>\n",
       "    </tr>\n",
       "    <tr>\n",
       "      <th>3</th>\n",
       "      <td>loan</td>\n",
       "      <td>39920</td>\n",
       "    </tr>\n",
       "    <tr>\n",
       "      <th>4</th>\n",
       "      <td>bank</td>\n",
       "      <td>37751</td>\n",
       "    </tr>\n",
       "    <tr>\n",
       "      <th>5</th>\n",
       "      <td>told</td>\n",
       "      <td>36548</td>\n",
       "    </tr>\n",
       "    <tr>\n",
       "      <th>6</th>\n",
       "      <td>payment</td>\n",
       "      <td>36509</td>\n",
       "    </tr>\n",
       "    <tr>\n",
       "      <th>7</th>\n",
       "      <td>received</td>\n",
       "      <td>30722</td>\n",
       "    </tr>\n",
       "    <tr>\n",
       "      <th>8</th>\n",
       "      <td>debt</td>\n",
       "      <td>27829</td>\n",
       "    </tr>\n",
       "    <tr>\n",
       "      <th>9</th>\n",
       "      <td>mortgage</td>\n",
       "      <td>27401</td>\n",
       "    </tr>\n",
       "    <tr>\n",
       "      <th>10</th>\n",
       "      <td>never</td>\n",
       "      <td>25973</td>\n",
       "    </tr>\n",
       "    <tr>\n",
       "      <th>11</th>\n",
       "      <td>information</td>\n",
       "      <td>25223</td>\n",
       "    </tr>\n",
       "    <tr>\n",
       "      <th>12</th>\n",
       "      <td>pay</td>\n",
       "      <td>24479</td>\n",
       "    </tr>\n",
       "    <tr>\n",
       "      <th>13</th>\n",
       "      <td>get</td>\n",
       "      <td>24163</td>\n",
       "    </tr>\n",
       "    <tr>\n",
       "      <th>14</th>\n",
       "      <td>company</td>\n",
       "      <td>23792</td>\n",
       "    </tr>\n",
       "  </tbody>\n",
       "</table>\n",
       "</div>"
      ],
      "text/plain": [
       "           Word  Frequency\n",
       "0        credit      82342\n",
       "1       account      58454\n",
       "2         would      47840\n",
       "3          loan      39920\n",
       "4          bank      37751\n",
       "5          told      36548\n",
       "6       payment      36509\n",
       "7      received      30722\n",
       "8          debt      27829\n",
       "9      mortgage      27401\n",
       "10        never      25973\n",
       "11  information      25223\n",
       "12          pay      24479\n",
       "13          get      24163\n",
       "14      company      23792"
      ]
     },
     "metadata": {},
     "output_type": "display_data"
    },
    {
     "data": {
      "text/markdown": [
       "_Table 1: The $15$ most frequent words with their frequencies_ 中文"
      ],
      "text/plain": [
       "<IPython.core.display.Markdown object>"
      ]
     },
     "metadata": {},
     "output_type": "display_data"
    },
    {
     "data": {
      "text/html": [
       "<div>\n",
       "<table border=\"1\" class=\"dataframe\">\n",
       "  <thead>\n",
       "    <tr style=\"text-align: right;\">\n",
       "      <th></th>\n",
       "      <th>Word</th>\n",
       "      <th>Frequency</th>\n",
       "    </tr>\n",
       "  </thead>\n",
       "  <tbody>\n",
       "    <tr>\n",
       "      <th>13947</th>\n",
       "      <td>metropolitan</td>\n",
       "      <td>1</td>\n",
       "    </tr>\n",
       "    <tr>\n",
       "      <th>13948</th>\n",
       "      <td>relenting</td>\n",
       "      <td>1</td>\n",
       "    </tr>\n",
       "    <tr>\n",
       "      <th>13949</th>\n",
       "      <td>curtly</td>\n",
       "      <td>1</td>\n",
       "    </tr>\n",
       "    <tr>\n",
       "      <th>13950</th>\n",
       "      <td>metaphorically</td>\n",
       "      <td>1</td>\n",
       "    </tr>\n",
       "    <tr>\n",
       "      <th>13951</th>\n",
       "      <td>monogram</td>\n",
       "      <td>1</td>\n",
       "    </tr>\n",
       "    <tr>\n",
       "      <th>13952</th>\n",
       "      <td>memorable</td>\n",
       "      <td>1</td>\n",
       "    </tr>\n",
       "    <tr>\n",
       "      <th>13953</th>\n",
       "      <td>monolithic</td>\n",
       "      <td>1</td>\n",
       "    </tr>\n",
       "    <tr>\n",
       "      <th>13954</th>\n",
       "      <td>proximately</td>\n",
       "      <td>1</td>\n",
       "    </tr>\n",
       "    <tr>\n",
       "      <th>13955</th>\n",
       "      <td>almighty</td>\n",
       "      <td>1</td>\n",
       "    </tr>\n",
       "    <tr>\n",
       "      <th>13956</th>\n",
       "      <td>furtive</td>\n",
       "      <td>1</td>\n",
       "    </tr>\n",
       "    <tr>\n",
       "      <th>13957</th>\n",
       "      <td>follower</td>\n",
       "      <td>1</td>\n",
       "    </tr>\n",
       "    <tr>\n",
       "      <th>13958</th>\n",
       "      <td>chump</td>\n",
       "      <td>1</td>\n",
       "    </tr>\n",
       "    <tr>\n",
       "      <th>13959</th>\n",
       "      <td>cheery</td>\n",
       "      <td>1</td>\n",
       "    </tr>\n",
       "    <tr>\n",
       "      <th>13960</th>\n",
       "      <td>trickling</td>\n",
       "      <td>1</td>\n",
       "    </tr>\n",
       "    <tr>\n",
       "      <th>13961</th>\n",
       "      <td>shadowed</td>\n",
       "      <td>1</td>\n",
       "    </tr>\n",
       "  </tbody>\n",
       "</table>\n",
       "</div>"
      ],
      "text/plain": [
       "                 Word  Frequency\n",
       "13947    metropolitan          1\n",
       "13948       relenting          1\n",
       "13949          curtly          1\n",
       "13950  metaphorically          1\n",
       "13951        monogram          1\n",
       "13952       memorable          1\n",
       "13953      monolithic          1\n",
       "13954     proximately          1\n",
       "13955        almighty          1\n",
       "13956         furtive          1\n",
       "13957        follower          1\n",
       "13958           chump          1\n",
       "13959          cheery          1\n",
       "13960       trickling          1\n",
       "13961        shadowed          1"
      ]
     },
     "metadata": {},
     "output_type": "display_data"
    },
    {
     "data": {
      "text/markdown": [
       "_Table 2: The $15$ least frequent words with their frequencies_ 中文"
      ],
      "text/plain": [
       "<IPython.core.display.Markdown object>"
      ]
     },
     "metadata": {},
     "output_type": "display_data"
    }
   ],
   "source": [
    "wordFrequencyFrame = pd.DataFrame(c.most_common(len(c)),columns = [\"Word\",\"Frequency\"])\n",
    "#plot frequency on rank\n",
    "fig, (ax1, ax2) = plt.subplots(1, 2)\n",
    "fig.set_size_inches(18, 7)\n",
    "#freq-rank\n",
    "ax1.plot(wordFrequencyFrame.index,wordFrequencyFrame[\"Frequency\"])\n",
    "ax1.set_title(\"Frequency on Rank of Vocabulary 中文\")\n",
    "ax1.set_xlabel(\"Rank 中文\")\n",
    "ax1.set_ylabel(\"Frequency 中文\")\n",
    "#freq-logRank\n",
    "ax2.plot(np.log(wordFrequencyFrame.index + 1),np.log(wordFrequencyFrame[\"Frequency\"]))\n",
    "ax2.set_title(\"Log-Frequency on Log-Rank of Vocabulary 中文\")\n",
    "ax2.set_xlabel(\"Log Rank 中文\")\n",
    "ax2.set_ylabel(\"Frequency 中文\")\n",
    "plt.show()\n",
    "printmd(\"_Figure 1: Frequency-Rank Graphs of Our Vocabulary._ 中文\")\n",
    "#get 15 most common\n",
    "top15FrequencyFrame = wordFrequencyFrame.iloc[0:15,:]\n",
    "display(top15FrequencyFrame)\n",
    "printmd(\"_Table 1: The $15$ most frequent words with their frequencies_ 中文\")\n",
    "#get 15 least common\n",
    "bottom15FrequencyFrame = wordFrequencyFrame.iloc[(wordFrequencyFrame.shape[0]-15):wordFrequencyFrame.shape[0],:]\n",
    "display(bottom15FrequencyFrame)\n",
    "printmd(\"_Table 2: The $15$ least frequent words with their frequencies_ 中文\")"
   ]
  },
  {
   "cell_type": "markdown",
   "metadata": {},
   "source": [
    "We see by the log-frequency on log-rank graph (Figure 1, right) that fitting a [Zipf Distribution](https://en.wikipedia.org/wiki/Zipf%27s_law) to this graph may potentially over-prediction the probability of less frequent words occuring, which suggests that our vocabulary is much more right-skewed than in a more ideal vocabulary. We see that the 15 most common words portray words that are very financially relevant, such as credit, account, loan, and bank.\n",
    "\n",
    "Let us now view the token-type graph to study richness of the vocabulary in the corpus."
   ]
  },
  {
   "cell_type": "code",
   "execution_count": 58,
   "metadata": {
    "collapsed": true
   },
   "outputs": [],
   "source": [
    "#get token-type list\n",
    "typeSet = set([]) #we will add to this over time\n",
    "typeTokenList = [] #we will add tuples to this\n",
    "for i in range(len(k)):\n",
    "    givenToken = k[i]\n",
    "    if (givenToken not in typeSet): #we should get a new type count\n",
    "        typeSet.add(givenToken)\n",
    "    #then add information to type-token list\n",
    "    typeTokenList.append((i+1,len(typeSet)))"
   ]
  },
  {
   "cell_type": "code",
   "execution_count": 59,
   "metadata": {
    "collapsed": false
   },
   "outputs": [
    {
     "data": {
      "image/png": "[encoded data removed]",
      "text/plain": [
       "<matplotlib.figure.Figure at 0x1f8314a0438>"
      ]
     },
     "metadata": {},
     "output_type": "display_data"
    },
    {
     "data": {
      "text/markdown": [
       "_Figure 2: Type-Token Graph for full vocabulary._ 中文"
      ],
      "text/plain": [
       "<IPython.core.display.Markdown object>"
      ]
     },
     "metadata": {},
     "output_type": "display_data"
    }
   ],
   "source": [
    "#then plot\n",
    "typeTokenFrame = pd.DataFrame(typeTokenList,columns = [\"Token Count\",\"Type Count\"])\n",
    "plt.figure(figsize=(10,8))\n",
    "plt.plot(typeTokenFrame[\"Token Count\"],typeTokenFrame[\"Type Count\"])\n",
    "plt.xlabel(\"Token Count (k) 累积投诉词汇量\")\n",
    "plt.ylabel(\"Type Count (c) 累积不重复的词汇量\")\n",
    "plt.title(\"Token Count on Type Count 中文\")\n",
    "plt.show()\n",
    "printmd(\"_Figure 2: Type-Token Graph for full vocabulary._ 中文\")"
   ]
  },
  {
   "cell_type": "markdown",
   "metadata": {},
   "source": [
    "We see that the growth of our vocabulary begins to slow after around $1000000$ tokens in our corpus, which is about $27\\%$ of the way through our corpus. To me, this suggests that the vocabulary is not extremely diverse, although it is difficult to compare without studying the relationship with other corpora.\n",
    "\n",
    "It would be very interesting to see if the richness of vocabulary changes based on the product being addressed. Let us take a look at the distribution of products over observations with complaint narratives and the type-token graphs for each product."
   ]
  },
  {
   "cell_type": "code",
   "execution_count": 60,
   "metadata": {
    "collapsed": false
   },
   "outputs": [
    {
     "data": {
      "image/png": "[encoded data removed]",
      "text/plain": [
       "<matplotlib.figure.Figure at 0x1f832942be0>"
      ]
     },
     "metadata": {},
     "output_type": "display_data"
    },
    {
     "data": {
      "text/markdown": [
       "_Figure 3: Distribution of product types. 中文_"
      ],
      "text/plain": [
       "<IPython.core.display.Markdown object>"
      ]
     },
     "metadata": {},
     "output_type": "display_data"
    },
    {
     "data": {
      "text/markdown": [
       "The number of narratives of the product type 'Other financial service' is $110$."
      ],
      "text/plain": [
       "<IPython.core.display.Markdown object>"
      ]
     },
     "metadata": {},
     "output_type": "display_data"
    }
   ],
   "source": [
    "productCountFrame = complaintNarrativeFrame.groupby(\"product\")[\"consumer_complaint_narrative\"].count()\n",
    "productCountFrame = productCountFrame.sort_values()\n",
    "#from pylab import *\n",
    "#val = 3+10*rand(5)    # the bar lengths\n",
    "pos = np.arange(productCountFrame.shape[0])+.5    # the bar centers on the y axis\n",
    "\n",
    "plt.figure(figsize=(10,8))\n",
    "plt.barh(pos,productCountFrame, align='center')\n",
    "plt.yticks(pos,productCountFrame.index)\n",
    "plt.xlabel('Count 中文')\n",
    "plt.ylabel(\"Product Type 中文\")\n",
    "plt.title('Distribution of Product Type 中文')\n",
    "plt.grid(True)\n",
    "plt.show()\n",
    "printmd(\"_Figure 3: Distribution of product types. 中文_\")\n",
    "printmd(\"The number of narratives of the product type 'Other financial service' is $\" + str(\n",
    "        productCountFrame[\"Other financial service\"]) + \"$.\")"
   ]
  },
  {
   "cell_type": "markdown",
   "metadata": {},
   "source": [
    "We see that our distribution seems very uneven, as we have a large amount of Mortgage, Debt Collection, and credit reporting narratives, but relatively few observations in money transfer, other financial services, and payday loans. This may suggest that it would be difficult to predict some of these smaller groups if we are interested in a predictive model on this issue."
   ]
  },
  {
   "cell_type": "code",
   "execution_count": 61,
   "metadata": {
    "collapsed": true
   },
   "outputs": [],
   "source": [
    "#declare functions before making type-token procedures\n",
    "def makeTypeTokenFrame(tokenList):\n",
    "    #helper that makes our type-token frame for a given token list\n",
    "    typeSet = set([]) #we will add to this over time\n",
    "    typeTokenList = [] #we will add tuples to this\n",
    "    for i in range(len(tokenList)):\n",
    "        givenToken = tokenList[i]\n",
    "        if (givenToken not in typeSet): #we should get a new type count\n",
    "            typeSet.add(givenToken)\n",
    "        #then add information to type-token list\n",
    "        typeTokenList.append((i+1,len(typeSet)))\n",
    "    return pd.DataFrame(typeTokenList,columns = [\"Token Count\",\"Type Count\"])\n",
    "\n",
    "def makeTokenList(consumerComplaintFrame):\n",
    "    #helper that makes token list from the given complaint frame\n",
    "# Python3\n",
    "    s = StringIO()\n",
    "# Python2\n",
    "#     s = BytesIO()\n",
    "    \n",
    "    consumerComplaintFrame[\"consumer_complaint_narrative\"].apply(lambda x: s.write(x))\n",
    "    k = s.getvalue() #gets string of unprocessed words\n",
    "    s.close()\n",
    "    #get actual unprocessed words\n",
    "    #k = k.lower()\n",
    "    k = k.split()\n",
    "    k = [i for i in k if i in words and i not in stopWords] #only consider legal words\n",
    "    return k\n",
    "\n",
    "def getTokenTypeFrameForProduct(consumerComplaintFrame,productName):\n",
    "    #helper that gets our token-type frame for narratives of a given product name\n",
    "    #get observations with this product name\n",
    "    givenProductComplaintFrame = consumerComplaintFrame[consumerComplaintFrame[\"product\"] == productName]\n",
    "    #then get token list\n",
    "    tokenList = makeTokenList(givenProductComplaintFrame)\n",
    "    #then make type-token frame\n",
    "    return makeTypeTokenFrame(tokenList)"
   ]
  },
  {
   "cell_type": "code",
   "execution_count": 62,
   "metadata": {
    "collapsed": false
   },
   "outputs": [],
   "source": [
    "#run through our observations\n",
    "typeTokenFrameDict = {} #we will adds to this\n",
    "for productName in productCountFrame.index:\n",
    "    typeTokenFrameDict[productName] = getTokenTypeFrameForProduct(complaintNarrativeFrame,productName)"
   ]
  },
  {
   "cell_type": "code",
   "execution_count": 63,
   "metadata": {
    "collapsed": false,
    "scrolled": false
   },
   "outputs": [
    {
     "data": {
      "image/png": "[encoded data removed]",
      "text/plain": [
       "<matplotlib.figure.Figure at 0x1f81d27c198>"
      ]
     },
     "metadata": {},
     "output_type": "display_data"
    },
    {
     "data": {
      "text/markdown": [
       "_Figure 4: Token-Type Graph By Product Name._ 中文"
      ],
      "text/plain": [
       "<IPython.core.display.Markdown object>"
      ]
     },
     "metadata": {},
     "output_type": "display_data"
    }
   ],
   "source": [
    "cmap = plt.get_cmap('Dark2')\n",
    "colorList = [cmap(i) for i in np.linspace(0, 1, len(typeTokenFrameDict))]\n",
    "plt.figure(figsize=(10,8))\n",
    "for i in range(len(typeTokenFrameDict)):\n",
    "    productName = list(typeTokenFrameDict)[i]\n",
    "    givenProductTokenTypeFrame = typeTokenFrameDict[productName]\n",
    "    plt.plot(givenProductTokenTypeFrame[\"Token Count\"],\n",
    "             givenProductTokenTypeFrame[\"Type Count\"], linewidth=3, label = productName,\n",
    "            c = colorList[i])\n",
    "plt.legend(bbox_to_anchor = (1.6,1))\n",
    "plt.xlabel(\"Token Count (k) 累积投诉词汇量\")\n",
    "plt.ylabel(\"Type Count (c) 累积不重复的词汇量\")\n",
    "plt.title(\"Token-Type Graph\\nBy Product Name 中文\")\n",
    "plt.show()\n",
    "printmd(\"_Figure 4: Token-Type Graph By Product Name._ 中文\")"
   ]
  },
  {
   "cell_type": "markdown",
   "metadata": {},
   "source": [
    "This graph makes one obvious thing apparent: that there are many more mortgage complaint observations than other categories. While it is difficult to define which of these products have the richest vocabulary due to the difference in line lengths, it is very obvious that debt collection and credit reporting seem to have less rich vocabularies than the other products. This may be essential for distinguishing the groups, although it is currently difficult to tell why this is. I am open to discussion on possible hypotheses for this.\n",
    "\n",
    "What may also be useful is to consider if we could predict whether a customer would eventually dispute the final resolution of a claim based on the language in the complaint itself. While it is likely this will also be a function of the company's decision of the company's response to the consumer, it may be interesting to study if vagueness or complexity of a dispute would factor into whether a consumer disputes a resolution."
   ]
  },
  {
   "cell_type": "code",
   "execution_count": 64,
   "metadata": {
    "collapsed": true
   },
   "outputs": [],
   "source": [
    "def getTokenTypeFrameForDispute(consumerComplaintFrame,disputeLev):\n",
    "    #helper that gets our token-type frame for narratives of a dispute level\n",
    "    #get observations with this product name\n",
    "    givenDisputeComplaintFrame = consumerComplaintFrame[consumerComplaintFrame[\"consumer_disputed\"] == disputeLev]\n",
    "    #then get token list\n",
    "    tokenList = makeTokenList(givenDisputeComplaintFrame)\n",
    "    #then make type-token frame\n",
    "    return makeTypeTokenFrame(tokenList)"
   ]
  },
  {
   "cell_type": "code",
   "execution_count": 65,
   "metadata": {
    "collapsed": true
   },
   "outputs": [],
   "source": [
    "consumerDisputeDict = {} #we will add to this\n",
    "for disputeLev in complaintNarrativeFrame[\"consumer_disputed\"].unique():\n",
    "    consumerDisputeDict[disputeLev] = getTokenTypeFrameForDispute(complaintNarrativeFrame,disputeLev)"
   ]
  },
  {
   "cell_type": "code",
   "execution_count": 66,
   "metadata": {
    "collapsed": false,
    "scrolled": false
   },
   "outputs": [
    {
     "data": {
      "image/png": "[encoded data removed]",
      "text/plain": [
       "<matplotlib.figure.Figure at 0x1f8329621d0>"
      ]
     },
     "metadata": {},
     "output_type": "display_data"
    },
    {
     "data": {
      "text/markdown": [
       "_Figure 5: Token-Type Graph By whether the consumer disputed._ 中文"
      ],
      "text/plain": [
       "<IPython.core.display.Markdown object>"
      ]
     },
     "metadata": {},
     "output_type": "display_data"
    }
   ],
   "source": [
    "plt.figure(figsize=(10,8))\n",
    "for disputeLev in consumerDisputeDict:\n",
    "    DisputeTokenTypeFrame = consumerDisputeDict[disputeLev]\n",
    "    plt.plot(DisputeTokenTypeFrame[\"Token Count\"],\n",
    "             DisputeTokenTypeFrame[\"Type Count\"], linewidth=3, label = disputeLev)\n",
    "plt.legend(bbox_to_anchor = (1.3,1))\n",
    "plt.xlabel(\"Token Count (k) 累积投诉词汇量\")\n",
    "plt.ylabel(\"Type Count (c) 累积不重复的词汇量\")\n",
    "plt.title(\"Token-Type Graph\\nBy Whether Consumer Disputed\")\n",
    "plt.show()\n",
    "printmd(\"_Figure 5: Token-Type Graph By whether the consumer disputed._ 中文\")"
   ]
  },
  {
   "cell_type": "markdown",
   "metadata": {},
   "source": [
    "While it looks as though the \"Yes\" observations have a slightly richer vocabulary than the \"No\" observations, seems to be a relatively small difference.\n",
    "\n",
    "Nonetheless, I think this would be one of the interesting prediction problems to see whether or not the language of a given consumer complaint is as much of a reason for a dispute as the company response.\n",
    "\n",
    "## Predicting Consumer Disputes\n",
    "\n",
    "We will initially model our language using bag-of-words with TF-IDF encodings. This is for the sake of simplicity: if there may be another possible language model that may better represent the language-generation process for prediction sake, I may re-model the language."
   ]
  },
  {
   "cell_type": "markdown",
   "metadata": {},
   "source": [
    "# By: www.KudosData.com from 2016-11-22"
   ]
  },
  {
   "cell_type": "markdown",
   "metadata": {
    "collapsed": true
   },
   "source": [
    "## 计算TF-iDF数值赋予相对应的词组"
   ]
  },
  {
   "cell_type": "code",
   "execution_count": 67,
   "metadata": {
    "collapsed": true
   },
   "outputs": [],
   "source": [
    "from sklearn.feature_extraction.text import TfidfVectorizer\n",
    "corpus = complaintNarrativeFrame[\"consumer_complaint_narrative\"]\n",
    "\n",
    "vectorizer = TfidfVectorizer()\n",
    "\n",
    "# my_stopword_list = ['and','to','the','of', 'in']\n",
    "#vectorizer = TfidfVectorizer(stop_words=my_stopword_list)\n",
    "\n",
    "# choice of no nomalization of tfidf output (not recommended)\n",
    "#vectorizer = TfidfVectorizer(norm=None)\n",
    "\n",
    "# TF-IDF score\n",
    "tfidf = vectorizer.fit_transform(corpus)\n",
    "\n",
    "# IDF score\n",
    "idf_dict = dict(zip(vectorizer.get_feature_names(), vectorizer.idf_))\n",
    "\n",
    "# TF is in df[['词数表']]"
   ]
  },
  {
   "cell_type": "markdown",
   "metadata": {
    "collapsed": true
   },
   "source": [
    "## 把TF-iDF数值赋予相对应的词组"
   ]
  },
  {
   "cell_type": "code",
   "execution_count": 68,
   "metadata": {
    "collapsed": true
   },
   "outputs": [],
   "source": [
    "tfidf = tfidf.tocsr()\n",
    "\n",
    "n_docs = tfidf.shape[0]\n",
    "tfidftables = [{} for _ in range(n_docs)]\n",
    "terms = vectorizer.get_feature_names()\n",
    "\n",
    "for i, j in zip(*tfidf.nonzero()):\n",
    "    tfidftables[i][terms[j]] = tfidf[i, j]"
   ]
  },
  {
   "cell_type": "code",
   "execution_count": 69,
   "metadata": {
    "collapsed": false
   },
   "outputs": [
    {
     "name": "stdout",
     "output_type": "stream",
     "text": [
      "This tfidf matrix is a very large table: [ 66806 rows/docs X 54080 columns/words ]\n",
      "It contains 3612868480 eliments: one score per word per document !\n"
     ]
    }
   ],
   "source": [
    "# Document-Term-Matrix's TF-IDF matrix size:\n",
    "print ('This tfidf matrix is a very large table: [ %d rows/docs X %d columns/words ]' \n",
    "       % (tfidf.shape[0], tfidf.shape[1]))\n",
    "print ('It contains %d eliments: one score per word per document !'\n",
    "       % (tfidf.shape[0] * tfidf.shape[1]))"
   ]
  },
  {
   "cell_type": "code",
   "execution_count": 70,
   "metadata": {
    "collapsed": true
   },
   "outputs": [],
   "source": [
    "# Add tfidf score into dataframe\n",
    "complaintNarrativeFrame['tfidf'] = tfidftables"
   ]
  },
  {
   "cell_type": "code",
   "execution_count": 71,
   "metadata": {
    "collapsed": false
   },
   "outputs": [
    {
     "data": {
      "text/html": [
       "<div>\n",
       "<table border=\"1\" class=\"dataframe\">\n",
       "  <thead>\n",
       "    <tr style=\"text-align: right;\">\n",
       "      <th></th>\n",
       "      <th>company</th>\n",
       "      <th>consumer_complaint_narrative</th>\n",
       "      <th>consumer_disputed</th>\n",
       "      <th>tfidf</th>\n",
       "    </tr>\n",
       "  </thead>\n",
       "  <tbody>\n",
       "    <tr>\n",
       "      <th>0</th>\n",
       "      <td>Diversified Consultants, Inc.</td>\n",
       "      <td>XXXX has claimed I owe them {$27.00} for XXXX ...</td>\n",
       "      <td>No</td>\n",
       "      <td>{'of': 0.0435071415016, 'how': 0.103494059457,...</td>\n",
       "    </tr>\n",
       "    <tr>\n",
       "      <th>1</th>\n",
       "      <td>M&amp;T Bank Corporation</td>\n",
       "      <td>Due to inconsistencies in the amount owed that...</td>\n",
       "      <td>No</td>\n",
       "      <td>{'monies': 0.0855892550095, 'remaining': 0.076...</td>\n",
       "    </tr>\n",
       "    <tr>\n",
       "      <th>2</th>\n",
       "      <td>Wells Fargo &amp; Company</td>\n",
       "      <td>In XX/XX/XXXX my wages that I earned at my job...</td>\n",
       "      <td>Yes</td>\n",
       "      <td>{'out': 0.030556594543, 'almost': 0.0269998294...</td>\n",
       "    </tr>\n",
       "    <tr>\n",
       "      <th>3</th>\n",
       "      <td>JPMorgan Chase &amp; Co.</td>\n",
       "      <td>I have an open and current mortgage with Chase...</td>\n",
       "      <td>Yes</td>\n",
       "      <td>{'an': 0.0468742210736, 'mortgage': 0.13005811...</td>\n",
       "    </tr>\n",
       "    <tr>\n",
       "      <th>4</th>\n",
       "      <td>Rushmore Loan Management Services LLC</td>\n",
       "      <td>XXXX was submitted XX/XX/XXXX. At the time I s...</td>\n",
       "      <td>Yes</td>\n",
       "      <td>{'are': 0.027160474505, 'discrimination': 0.08...</td>\n",
       "    </tr>\n",
       "  </tbody>\n",
       "</table>\n",
       "</div>"
      ],
      "text/plain": [
       "                                 company  \\\n",
       "0          Diversified Consultants, Inc.   \n",
       "1                   M&T Bank Corporation   \n",
       "2                  Wells Fargo & Company   \n",
       "3                   JPMorgan Chase & Co.   \n",
       "4  Rushmore Loan Management Services LLC   \n",
       "\n",
       "                        consumer_complaint_narrative consumer_disputed  \\\n",
       "0  XXXX has claimed I owe them {$27.00} for XXXX ...                No   \n",
       "1  Due to inconsistencies in the amount owed that...                No   \n",
       "2  In XX/XX/XXXX my wages that I earned at my job...               Yes   \n",
       "3  I have an open and current mortgage with Chase...               Yes   \n",
       "4  XXXX was submitted XX/XX/XXXX. At the time I s...               Yes   \n",
       "\n",
       "                                               tfidf  \n",
       "0  {'of': 0.0435071415016, 'how': 0.103494059457,...  \n",
       "1  {'monies': 0.0855892550095, 'remaining': 0.076...  \n",
       "2  {'out': 0.030556594543, 'almost': 0.0269998294...  \n",
       "3  {'an': 0.0468742210736, 'mortgage': 0.13005811...  \n",
       "4  {'are': 0.027160474505, 'discrimination': 0.08...  "
      ]
     },
     "execution_count": 71,
     "metadata": {},
     "output_type": "execute_result"
    }
   ],
   "source": [
    "complaintNarrativeFrame[['company', 'consumer_complaint_narrative', 'consumer_disputed', 'tfidf']].head()"
   ]
  },
  {
   "cell_type": "code",
   "execution_count": 72,
   "metadata": {
    "collapsed": true
   },
   "outputs": [],
   "source": [
    "complaintNarrativeFrame['consumer_disputed_TF'] = complaintNarrativeFrame['consumer_disputed'] == 'Yes'"
   ]
  },
  {
   "cell_type": "code",
   "execution_count": 73,
   "metadata": {
    "collapsed": false
   },
   "outputs": [
    {
     "name": "stdout",
     "output_type": "stream",
     "text": [
      "0.766832320450259\n"
     ]
    },
    {
     "data": {
      "text/plain": [
       "<matplotlib.axes._subplots.AxesSubplot at 0x1f838a6ba90>"
      ]
     },
     "execution_count": 73,
     "metadata": {},
     "output_type": "execute_result"
    },
    {
     "data": {
      "image/png": "[encoded data removed]",
      "text/plain": [
       "<matplotlib.figure.Figure at 0x1f838a70c88>"
      ]
     },
     "metadata": {},
     "output_type": "display_data"
    }
   ],
   "source": [
    "print (len(complaintNarrativeFrame[complaintNarrativeFrame['consumer_disputed'] == 'No'])/len(complaintNarrativeFrame))\n",
    "complaintNarrativeFrame.groupby('consumer_disputed').size().plot(kind='bar',title='consumer_disputed')\n"
   ]
  },
  {
   "cell_type": "markdown",
   "metadata": {},
   "source": [
    "## 老样子，还有一些数据预处理工作"
   ]
  },
  {
   "cell_type": "code",
   "execution_count": 74,
   "metadata": {
    "collapsed": false
   },
   "outputs": [
    {
     "name": "stdout",
     "output_type": "stream",
     "text": [
      "训练数据数量 : 53469\n",
      "测试数据数量 : 13337\n"
     ]
    }
   ],
   "source": [
    "# 划分训练和测试数据集 80% v.s. 20%\n",
    "np.random.seed(88)\n",
    "msk = np.random.rand(len(complaintNarrativeFrame)) < 0.8\n",
    "\n",
    "# 训练数据集 train_data\n",
    "train_data = complaintNarrativeFrame[msk]\n",
    "# 测试数据集 test_data\n",
    "test_data = complaintNarrativeFrame[~msk]\n",
    "\n",
    "print ('训练数据数量 : %d' %len(train_data))\n",
    "print ('测试数据数量 : %d' %len(test_data))"
   ]
  },
  {
   "cell_type": "code",
   "execution_count": 75,
   "metadata": {
    "collapsed": true
   },
   "outputs": [],
   "source": [
    "# 设定 训练数据集 目标值\n",
    "train_data_y = train_data['consumer_disputed_TF']\n",
    "\n",
    "# 设定 训练数据集 特征值 （ Dict 数据结构）\n",
    "train_data_x = train_data['tfidf']"
   ]
  },
  {
   "cell_type": "code",
   "execution_count": 139,
   "metadata": {
    "collapsed": true
   },
   "outputs": [],
   "source": [
    "# 设定 测试数据集 目标值 （此为实际值）\n",
    "test_data_y = test_data['consumer_disputed_TF']\n",
    "\n",
    "# 设定 测试数据集 特征值 （ Dict 数据结构）\n",
    "test_data_x = test_data['tfidf']"
   ]
  },
  {
   "cell_type": "code",
   "execution_count": 140,
   "metadata": {
    "collapsed": false
   },
   "outputs": [],
   "source": [
    "# test for Citibank only\n",
    "\n",
    "# test_data_y = test_data['consumer_disputed_TF'][test_data['company'] == 'Citibank']\n",
    "# test_data_x = test_data['tfidf'][test_data['company'] == 'Citibank']\n",
    "# print('No. of test cases for Citibank: %d' % len(test_data_y))"
   ]
  },
  {
   "cell_type": "markdown",
   "metadata": {},
   "source": [
    "### 下一步，数据结构变换：把 Dict 转换为 稀疏矩阵， 用于机器学习模型的输入。\n",
    "### 但是，为什么要做数据转换？ 原因是不同的数据模型/机器学习算法的原理和数学计算优化过程不同，所以对输入的特征值会有各种花样百出的要求…… 但别担心，我们循序渐进地一起学习。"
   ]
  },
  {
   "cell_type": "code",
   "execution_count": 141,
   "metadata": {
    "collapsed": true
   },
   "outputs": [],
   "source": [
    "from sklearn.feature_extraction import DictVectorizer # 数据结构变换：把 Dict 转换为 稀疏矩阵\n",
    "vec = DictVectorizer()\n",
    "train_data_xm = vec.fit_transform(train_data_x) # 把 Dict 转换为 稀疏矩阵，用于算法的输入"
   ]
  },
  {
   "cell_type": "markdown",
   "metadata": {},
   "source": [
    "## 摩拳擦掌，要正式开始训练分类数据模型了"
   ]
  },
  {
   "cell_type": "code",
   "execution_count": 142,
   "metadata": {
    "collapsed": false
   },
   "outputs": [
    {
     "data": {
      "text/plain": [
       "LogisticRegression(C=1.0, class_weight=None, dual=False, fit_intercept=True,\n",
       "          intercept_scaling=1, max_iter=100, multi_class='ovr', n_jobs=1,\n",
       "          penalty='l2', random_state=None, solver='liblinear', tol=0.0001,\n",
       "          verbose=0, warm_start=False)"
      ]
     },
     "execution_count": 142,
     "metadata": {},
     "output_type": "execute_result"
    }
   ],
   "source": [
    "from sklearn.linear_model import LogisticRegression, LogisticRegressionCV  # 逻辑回归分类模型\n",
    "from sklearn.ensemble import GradientBoostingClassifier, RandomForestClassifier\n",
    "from sklearn.neighbors import KNeighborsClassifier\n",
    "from sklearn import svm  # Support Vector Machine 模型\n",
    "\n",
    "sentiment_model = LogisticRegression()\n",
    "# sentiment_model = LogisticRegressionCV()\n",
    "# sentiment_model = svm.SVC(kernel = 'rbf')\n",
    "# sentiment_model = RandomForestClassifier(random_state=0)\n",
    "# sentiment_model = KNeighborsClassifier(n_neighbors=3)\n",
    "\n",
    "\n",
    "sentiment_model.fit(train_data_xm, train_data_y)"
   ]
  },
  {
   "cell_type": "markdown",
   "metadata": {},
   "source": [
    "### 数据模型训练完成！\n",
    "### 现在用测试数据来验证："
   ]
  },
  {
   "cell_type": "code",
   "execution_count": 143,
   "metadata": {
    "collapsed": false
   },
   "outputs": [],
   "source": [
    "test_data_xm = vec.transform(test_data_x) # 数据结构变换：把 Dict 转换为 稀疏矩阵， 用于逻辑回归分类模型的输入\n",
    "test_data_pr = sentiment_model.predict(test_data_xm) # 测试数据集评论的评分（预测值）\n"
   ]
  },
  {
   "cell_type": "markdown",
   "metadata": {},
   "source": [
    "# 评测分类模型的性能"
   ]
  },
  {
   "cell_type": "markdown",
   "metadata": {},
   "source": [
    "# 性能考量1\n",
    "### 我们来考察 混淆矩阵（它是分类问题中重要的模型性能测评工具）\n",
    "\n",
    "又名：列联表，误差矩阵 （confusion matrix） 是一种验证模型性能的可视化工具。矩阵的每一列代表一个类的实例预测，而每一行表示一个实际的类的实例。基于实际的名称可以更容易判断机器是否将两个不同的类混淆了。\n",
    "\n",
    "<img style=\"float: left;\" width=\"100%\" src=\"ref\\confusion_matrix.jpg\">"
   ]
  },
  {
   "cell_type": "code",
   "execution_count": 144,
   "metadata": {
    "collapsed": false
   },
   "outputs": [
    {
     "name": "stdout",
     "output_type": "stream",
     "text": [
      "   混淆矩阵 \n",
      "[[10150   147]\n",
      " [ 2867   173]]\n"
     ]
    },
    {
     "data": {
      "image/png": "[encoded data removed]",
      "text/plain": [
       "<matplotlib.figure.Figure at 0x1f8329b1b70>"
      ]
     },
     "metadata": {},
     "output_type": "display_data"
    }
   ],
   "source": [
    "from sklearn.metrics import confusion_matrix, roc_curve, auc\n",
    "\n",
    "# 混淆矩阵 计算\n",
    "labels = [u'客户抗辩 No', u'客户抗辩 Yes']\n",
    "cm = confusion_matrix(array(test_data_y), test_data_pr)\n",
    "print('   混淆矩阵 ')\n",
    "print(cm)\n",
    "\n",
    "# 混淆矩阵 可视化 \n",
    "fig = plt.figure(figsize=(8, 8))\n",
    "ax = fig.add_subplot(111)\n",
    "cax = ax.matshow(cm)\n",
    "plt.title(u'分类器的混淆矩阵 Confusion matrix of the classifier')\n",
    "fig.colorbar(cax)\n",
    "ax.set_xticklabels([''] + labels)\n",
    "ax.set_yticklabels([''] + labels)\n",
    "plt.xlabel(u'预测的目标值 Predicted')\n",
    "plt.ylabel(u'实际的目标值 True')\n",
    "plt.show()"
   ]
  },
  {
   "cell_type": "markdown",
   "metadata": {},
   "source": [
    "# 性能考量2\n",
    "### 模型精度测量： 精度 = （正确的抗辩预测 + 正确的不抗辩预测 ） / 所有测试的投诉数目\n",
    "\n",
    "最低 0% 最高 100%"
   ]
  },
  {
   "cell_type": "code",
   "execution_count": 145,
   "metadata": {
    "collapsed": false
   },
   "outputs": [
    {
     "name": "stdout",
     "output_type": "stream",
     "text": [
      "模型预测精度 : 77.40 %\n"
     ]
    }
   ],
   "source": [
    "model_accuracy = sentiment_model.score(test_data_xm, test_data_y)\n",
    "print ('模型预测精度 : %.2f %%' % (model_accuracy * 100))"
   ]
  },
  {
   "cell_type": "markdown",
   "metadata": {},
   "source": [
    "### 除了精度测量，在很多情况下，我们是不是还想知道模型对她自己给出的褒贬结果有多少信心？有多“靠谱”？\n",
    "### 所以一般的分类模型还能给出对于每个预测结果的“信心度”，以预测模型给出的 每篇评论的消极分类可能性 和 积极分类可能性 来度量。（背后其实是基于数据统计和概率的度量）"
   ]
  },
  {
   "cell_type": "code",
   "execution_count": 146,
   "metadata": {
    "collapsed": false
   },
   "outputs": [
    {
     "name": "stdout",
     "output_type": "stream",
     "text": [
      "      [客户抗辩可能性No: 客户抗辩可能性Yes:]\n"
     ]
    },
    {
     "data": {
      "text/plain": [
       "array([[ 0.53257744,  0.46742256],\n",
       "       [ 0.76598243,  0.23401757],\n",
       "       [ 0.74186243,  0.25813757],\n",
       "       ..., \n",
       "       [ 0.74617653,  0.25382347],\n",
       "       [ 0.82917907,  0.17082093],\n",
       "       [ 0.87036855,  0.12963145]])"
      ]
     },
     "execution_count": 146,
     "metadata": {},
     "output_type": "execute_result"
    }
   ],
   "source": [
    "print ('      [客户抗辩可能性No: 客户抗辩可能性Yes:]')\n",
    "sentiment_model.predict_proba(test_data_xm)"
   ]
  },
  {
   "cell_type": "code",
   "execution_count": 147,
   "metadata": {
    "collapsed": false
   },
   "outputs": [],
   "source": [
    "# 获取 积极分类可能性\n",
    "predict_proba_positive = [i[1] for i in sentiment_model.predict_proba(test_data_xm)]\n",
    "\n",
    "# 获取 Log(积极分类可能性) 使用Log()变换，人为减小 可能性/概率输出 的差异\n",
    "predict_log_proba_positive = [i[1] for i in sentiment_model.predict_log_proba(test_data_xm)]"
   ]
  },
  {
   "cell_type": "code",
   "execution_count": 148,
   "metadata": {
    "collapsed": false
   },
   "outputs": [
    {
     "data": {
      "image/png": "[encoded data removed]",
      "text/plain": [
       "<matplotlib.figure.Figure at 0x1f8329b1588>"
      ]
     },
     "metadata": {},
     "output_type": "display_data"
    }
   ],
   "source": [
    "# 图表显示\n",
    "plt.figure(figsize=(16,6))\n",
    "plt.title(u'测试投诉的客户抗辩可能性 （越接近 1.0 客户越可能抗辩）')  \n",
    "plt.xlabel(u'X坐标：前 N 篇测试投诉')  \n",
    "plt.ylabel(u'Y坐标：客户抗辩可能性值') \n",
    "#plt.yscale('log')\n",
    "plt.bar(range(0, len(predict_proba_positive[0:1000])), sorted(predict_proba_positive[0:1000], reverse=True), color='green')\n",
    "plt.show()"
   ]
  },
  {
   "cell_type": "markdown",
   "metadata": {},
   "source": [
    "# 性能考量3\n",
    "### 感受性曲线 ROC Curve\n",
    "### 图线表征的是，在特定的 伪阳性 (FP, false positive) 可能性时，预测真阳性 (TP, true positive) 的准确率\n",
    "\n",
    "ROC感受性曲线下面积（英语：Area under the Curve of ROC (AUC ROC)）。简单来说：AUC值越大的分类器，正确率越高。从AUC判断分类器（预测模型）优劣的标准：\n",
    "\n",
    "* AUC = 1，是完美分类器，采用这个预测模型时，存在至少一个阈值能得出完美预测。绝大多数预测的场合，不存在完美分类器。\n",
    "\n",
    "* 0.5 < AUC < 1，优于随机猜测。这个分类器（模型）妥善设定阈值的话，能有预测价值。\n",
    "\n",
    "* AUC = 0.5，跟随机猜测一样（例：丢铜板），模型没有预测价值。\n",
    "\n",
    "* AUC < 0.5，比随机猜测还差；但只要总是反预测而行，就优于随机猜测。\n"
   ]
  },
  {
   "cell_type": "code",
   "execution_count": 149,
   "metadata": {
    "collapsed": false
   },
   "outputs": [],
   "source": [
    "# 先计算 ROC 曲线的数据点，会用于下一步图形显示\n",
    "# Compute ROC curve and AUC area for each class\n",
    "\n",
    "# 伪阳性 \n",
    "fpr = dict()\n",
    "\n",
    "# 真阳性\n",
    "tpr = dict()\n",
    "\n",
    "# ROC 曲线下方的面积\n",
    "roc_auc = dict()\n",
    "\n",
    "# 二分分类（褒 和 贬）\n",
    "n_classes = 2 \n",
    "\n",
    "# 循环计算 伪阳性 真阳性 用于图形显示\n",
    "for i in range(1, n_classes):\n",
    "    fpr[i], tpr[i], _ = roc_curve(array(test_data_y), predict_proba_positive)\n",
    "    roc_auc[i] = auc(fpr[i], tpr[i])\n",
    "\n",
    "# 计算 ROC 曲线下方的面积\n",
    "# Compute micro-average ROC curve and AUC-ROC area\n",
    "fpr[\"micro\"], tpr[\"micro\"], _ = roc_curve(array(test_data_y), predict_proba_positive)\n",
    "roc_auc[\"micro\"] = auc(fpr[\"micro\"], tpr[\"micro\"])\n",
    "#tpr['micro']\n",
    "#tpr[1]"
   ]
  },
  {
   "cell_type": "code",
   "execution_count": 150,
   "metadata": {
    "collapsed": false
   },
   "outputs": [
    {
     "data": {
      "image/png": "[encoded data removed]",
      "text/plain": [
       "<matplotlib.figure.Figure at 0x1f839823ac8>"
      ]
     },
     "metadata": {},
     "output_type": "display_data"
    }
   ],
   "source": [
    "# 显示 ROC 曲线\n",
    "# Plot of a ROC curve for a specific class\n",
    "plt.figure(figsize=(8, 8))\n",
    "plt.plot(fpr[1], tpr[1], label=u'ROC 曲线 ( AUC 面积 = %0.2f )' % roc_auc[1])\n",
    "plt.plot([0, 1], [0, 1], 'k--')\n",
    "plt.xlim([-0.01, 1.01])\n",
    "plt.ylim([-0.01, 1.01])\n",
    "plt.xlabel(u'伪阳性 False Positive Rate')\n",
    "plt.ylabel(u'真阳性 True Positive Rate (Recall)')\n",
    "plt.title(u'ROC 模型性能曲線')\n",
    "#plt.legend(loc='best')\n",
    "plt.legend(loc='lower right')\n",
    "plt.show()\n"
   ]
  },
  {
   "cell_type": "markdown",
   "metadata": {},
   "source": [
    "# 太好了，您已经掌握很多高深的模型性能测量技能了！\n",
    "# 接下来让我们用训练好的模型，回过头来考察花旗银行的投诉"
   ]
  },
  {
   "cell_type": "code",
   "execution_count": 151,
   "metadata": {
    "collapsed": false
   },
   "outputs": [],
   "source": [
    "Citi_complaints = complaintNarrativeFrame[['company', 'consumer_complaint_narrative', 'consumer_disputed', 'tfidf']]\n",
    "Citi_complaints = Citi_complaints[complaintNarrativeFrame['company'] == 'Citibank']"
   ]
  },
  {
   "cell_type": "code",
   "execution_count": 152,
   "metadata": {
    "collapsed": true
   },
   "outputs": [],
   "source": [
    "Citi_complaints['predicted_consumer_disputed'] = [i[1] for i in sentiment_model.predict_proba\n",
    "                                          (vec.transform(Citi_complaints['tfidf']))]"
   ]
  },
  {
   "cell_type": "code",
   "execution_count": 153,
   "metadata": {
    "collapsed": true
   },
   "outputs": [],
   "source": [
    "Citi_complaints = Citi_complaints.sort_values('predicted_consumer_disputed', ascending=False)"
   ]
  },
  {
   "cell_type": "code",
   "execution_count": 154,
   "metadata": {
    "collapsed": false,
    "scrolled": true
   },
   "outputs": [
    {
     "data": {
      "text/plain": [
       "2789"
      ]
     },
     "execution_count": 154,
     "metadata": {},
     "output_type": "execute_result"
    }
   ],
   "source": [
    "len(Citi_complaints)"
   ]
  },
  {
   "cell_type": "code",
   "execution_count": 155,
   "metadata": {
    "collapsed": false
   },
   "outputs": [],
   "source": [
    "# print(Citi_complaints.iloc[1, Citi_complaints.columns.get_loc('tfidf')])"
   ]
  },
  {
   "cell_type": "code",
   "execution_count": 156,
   "metadata": {
    "collapsed": false,
    "scrolled": false
   },
   "outputs": [
    {
     "data": {
      "text/html": [
       "<div>\n",
       "<table border=\"1\" class=\"dataframe\">\n",
       "  <thead>\n",
       "    <tr style=\"text-align: right;\">\n",
       "      <th></th>\n",
       "      <th>company</th>\n",
       "      <th>consumer_complaint_narrative</th>\n",
       "      <th>consumer_disputed</th>\n",
       "      <th>tfidf</th>\n",
       "      <th>predicted_consumer_disputed</th>\n",
       "    </tr>\n",
       "  </thead>\n",
       "  <tbody>\n",
       "    <tr>\n",
       "      <th>21114</th>\n",
       "      <td>Citibank</td>\n",
       "      <td>I filed a complaint \" Qualified Written Reques...</td>\n",
       "      <td>No</td>\n",
       "      <td>{'holding': 0.190687383285, 'on': 0.0475641278...</td>\n",
       "      <td>0.695056</td>\n",
       "    </tr>\n",
       "    <tr>\n",
       "      <th>36391</th>\n",
       "      <td>Citibank</td>\n",
       "      <td>RE : Citi retaliatory closing of accts in good...</td>\n",
       "      <td>Yes</td>\n",
       "      <td>{'harm': 0.0283232019893, 'dispute': 0.0924811...</td>\n",
       "      <td>0.674052</td>\n",
       "    </tr>\n",
       "    <tr>\n",
       "      <th>17898</th>\n",
       "      <td>Citibank</td>\n",
       "      <td>We made a purchase at Home Depot during XXXX. ...</td>\n",
       "      <td>No</td>\n",
       "      <td>{'contact': 0.0178474819818, 'almost': 0.02463...</td>\n",
       "      <td>0.662732</td>\n",
       "    </tr>\n",
       "    <tr>\n",
       "      <th>57595</th>\n",
       "      <td>Citibank</td>\n",
       "      <td>CitiCards is not Protecting Consumers from Fra...</td>\n",
       "      <td>Yes</td>\n",
       "      <td>{'dispute': 0.0315994573218, 'history': 0.0393...</td>\n",
       "      <td>0.654503</td>\n",
       "    </tr>\n",
       "    <tr>\n",
       "      <th>13257</th>\n",
       "      <td>Citibank</td>\n",
       "      <td>I cosigned a loan for my daughter who lives XX...</td>\n",
       "      <td>Yes</td>\n",
       "      <td>{'are': 0.024254200766, 'out': 0.0295490263305...</td>\n",
       "      <td>0.611914</td>\n",
       "    </tr>\n",
       "    <tr>\n",
       "      <th>40057</th>\n",
       "      <td>Citibank</td>\n",
       "      <td>i received a letter from citibank dated XX/XX/...</td>\n",
       "      <td>Yes</td>\n",
       "      <td>{'are': 0.0458827096375, 'out': 0.027949578884...</td>\n",
       "      <td>0.602953</td>\n",
       "    </tr>\n",
       "    <tr>\n",
       "      <th>38138</th>\n",
       "      <td>Citibank</td>\n",
       "      <td>There is an item on my Credit Bureau reports t...</td>\n",
       "      <td>Yes</td>\n",
       "      <td>{'out': 0.0370490952646, 'credits': 0.09370376...</td>\n",
       "      <td>0.601917</td>\n",
       "    </tr>\n",
       "    <tr>\n",
       "      <th>23106</th>\n",
       "      <td>Citibank</td>\n",
       "      <td>I ordered flowers and other gifts to be delive...</td>\n",
       "      <td>Yes</td>\n",
       "      <td>{'contact': 0.0474061252065, 'dispute': 0.2072...</td>\n",
       "      <td>0.584619</td>\n",
       "    </tr>\n",
       "    <tr>\n",
       "      <th>45301</th>\n",
       "      <td>Citibank</td>\n",
       "      <td>I have a consumer Credit Card called Home Depo...</td>\n",
       "      <td>Yes</td>\n",
       "      <td>{'fraudulent': 0.0472741063929, 'out': 0.02866...</td>\n",
       "      <td>0.573514</td>\n",
       "    </tr>\n",
       "    <tr>\n",
       "      <th>48176</th>\n",
       "      <td>Citibank</td>\n",
       "      <td>I notified Citibank of a dispute with Home Dep...</td>\n",
       "      <td>Yes</td>\n",
       "      <td>{'me': 0.0294055361017, 'dispute': 0.067152609...</td>\n",
       "      <td>0.570253</td>\n",
       "    </tr>\n",
       "  </tbody>\n",
       "</table>\n",
       "</div>"
      ],
      "text/plain": [
       "        company                       consumer_complaint_narrative  \\\n",
       "21114  Citibank  I filed a complaint \" Qualified Written Reques...   \n",
       "36391  Citibank  RE : Citi retaliatory closing of accts in good...   \n",
       "17898  Citibank  We made a purchase at Home Depot during XXXX. ...   \n",
       "57595  Citibank  CitiCards is not Protecting Consumers from Fra...   \n",
       "13257  Citibank  I cosigned a loan for my daughter who lives XX...   \n",
       "40057  Citibank  i received a letter from citibank dated XX/XX/...   \n",
       "38138  Citibank  There is an item on my Credit Bureau reports t...   \n",
       "23106  Citibank  I ordered flowers and other gifts to be delive...   \n",
       "45301  Citibank  I have a consumer Credit Card called Home Depo...   \n",
       "48176  Citibank  I notified Citibank of a dispute with Home Dep...   \n",
       "\n",
       "      consumer_disputed                                              tfidf  \\\n",
       "21114                No  {'holding': 0.190687383285, 'on': 0.0475641278...   \n",
       "36391               Yes  {'harm': 0.0283232019893, 'dispute': 0.0924811...   \n",
       "17898                No  {'contact': 0.0178474819818, 'almost': 0.02463...   \n",
       "57595               Yes  {'dispute': 0.0315994573218, 'history': 0.0393...   \n",
       "13257               Yes  {'are': 0.024254200766, 'out': 0.0295490263305...   \n",
       "40057               Yes  {'are': 0.0458827096375, 'out': 0.027949578884...   \n",
       "38138               Yes  {'out': 0.0370490952646, 'credits': 0.09370376...   \n",
       "23106               Yes  {'contact': 0.0474061252065, 'dispute': 0.2072...   \n",
       "45301               Yes  {'fraudulent': 0.0472741063929, 'out': 0.02866...   \n",
       "48176               Yes  {'me': 0.0294055361017, 'dispute': 0.067152609...   \n",
       "\n",
       "       predicted_consumer_disputed  \n",
       "21114                     0.695056  \n",
       "36391                     0.674052  \n",
       "17898                     0.662732  \n",
       "57595                     0.654503  \n",
       "13257                     0.611914  \n",
       "40057                     0.602953  \n",
       "38138                     0.601917  \n",
       "23106                     0.584619  \n",
       "45301                     0.573514  \n",
       "48176                     0.570253  "
      ]
     },
     "execution_count": 156,
     "metadata": {},
     "output_type": "execute_result"
    }
   ],
   "source": [
    "Citi_complaints.head(10)"
   ]
  },
  {
   "cell_type": "code",
   "execution_count": 157,
   "metadata": {
    "collapsed": false,
    "scrolled": false
   },
   "outputs": [
    {
     "data": {
      "text/html": [
       "<div>\n",
       "<table border=\"1\" class=\"dataframe\">\n",
       "  <thead>\n",
       "    <tr style=\"text-align: right;\">\n",
       "      <th></th>\n",
       "      <th>company</th>\n",
       "      <th>consumer_complaint_narrative</th>\n",
       "      <th>consumer_disputed</th>\n",
       "      <th>tfidf</th>\n",
       "      <th>predicted_consumer_disputed</th>\n",
       "    </tr>\n",
       "  </thead>\n",
       "  <tbody>\n",
       "    <tr>\n",
       "      <th>38953</th>\n",
       "      <td>Citibank</td>\n",
       "      <td>I have had a {$2.00} outstanding balance on my...</td>\n",
       "      <td>No</td>\n",
       "      <td>{'contact': 0.0700751791176, 'on': 0.090449606...</td>\n",
       "      <td>0.060907</td>\n",
       "    </tr>\n",
       "    <tr>\n",
       "      <th>1483</th>\n",
       "      <td>Citibank</td>\n",
       "      <td>I have received several phone calls about a de...</td>\n",
       "      <td>No</td>\n",
       "      <td>{'contact': 0.112823766752, 'on': 0.0242712312...</td>\n",
       "      <td>0.058684</td>\n",
       "    </tr>\n",
       "    <tr>\n",
       "      <th>56298</th>\n",
       "      <td>Citibank</td>\n",
       "      <td>The Macy 's online credit card access was unav...</td>\n",
       "      <td>No</td>\n",
       "      <td>{'out': 0.0370250891269, '20': 0.077008891204,...</td>\n",
       "      <td>0.057529</td>\n",
       "    </tr>\n",
       "    <tr>\n",
       "      <th>473</th>\n",
       "      <td>Citibank</td>\n",
       "      <td>Macys credit card system application takes the...</td>\n",
       "      <td>No</td>\n",
       "      <td>{'out': 0.0595248735693, 'card': 0.06704259216...</td>\n",
       "      <td>0.057475</td>\n",
       "    </tr>\n",
       "    <tr>\n",
       "      <th>41287</th>\n",
       "      <td>Citibank</td>\n",
       "      <td>I went to make a payment online and their webs...</td>\n",
       "      <td>No</td>\n",
       "      <td>{'payment': 0.194436551916, 'them': 0.07956260...</td>\n",
       "      <td>0.056435</td>\n",
       "    </tr>\n",
       "    <tr>\n",
       "      <th>21947</th>\n",
       "      <td>Citibank</td>\n",
       "      <td>I 'm receiving 3+ phone calls a day from this ...</td>\n",
       "      <td>No</td>\n",
       "      <td>{'someone': 0.299187595373, 'number': 0.233137...</td>\n",
       "      <td>0.056261</td>\n",
       "    </tr>\n",
       "    <tr>\n",
       "      <th>8308</th>\n",
       "      <td>Citibank</td>\n",
       "      <td>I have had a Macys credit card for several yea...</td>\n",
       "      <td>No</td>\n",
       "      <td>{'contact': 0.0697664167162, 'charging': 0.104...</td>\n",
       "      <td>0.050612</td>\n",
       "    </tr>\n",
       "    <tr>\n",
       "      <th>54872</th>\n",
       "      <td>Citibank</td>\n",
       "      <td>Received instant credit from Macy 's in-store ...</td>\n",
       "      <td>No</td>\n",
       "      <td>{'before': 0.0730475888639, 'me': 0.0340916697...</td>\n",
       "      <td>0.049233</td>\n",
       "    </tr>\n",
       "    <tr>\n",
       "      <th>57244</th>\n",
       "      <td>Citibank</td>\n",
       "      <td>Harassing phone calls. I have never missed a p...</td>\n",
       "      <td>No</td>\n",
       "      <td>{'before': 0.0818072139569, 'off': 0.074554097...</td>\n",
       "      <td>0.046927</td>\n",
       "    </tr>\n",
       "    <tr>\n",
       "      <th>38658</th>\n",
       "      <td>Citibank</td>\n",
       "      <td>I refinanced my previous loan with One Main Fi...</td>\n",
       "      <td>No</td>\n",
       "      <td>{'employer': 0.08457053102, 'out': 0.039034937...</td>\n",
       "      <td>0.043908</td>\n",
       "    </tr>\n",
       "  </tbody>\n",
       "</table>\n",
       "</div>"
      ],
      "text/plain": [
       "        company                       consumer_complaint_narrative  \\\n",
       "38953  Citibank  I have had a {$2.00} outstanding balance on my...   \n",
       "1483   Citibank  I have received several phone calls about a de...   \n",
       "56298  Citibank  The Macy 's online credit card access was unav...   \n",
       "473    Citibank  Macys credit card system application takes the...   \n",
       "41287  Citibank  I went to make a payment online and their webs...   \n",
       "21947  Citibank  I 'm receiving 3+ phone calls a day from this ...   \n",
       "8308   Citibank  I have had a Macys credit card for several yea...   \n",
       "54872  Citibank  Received instant credit from Macy 's in-store ...   \n",
       "57244  Citibank  Harassing phone calls. I have never missed a p...   \n",
       "38658  Citibank  I refinanced my previous loan with One Main Fi...   \n",
       "\n",
       "      consumer_disputed                                              tfidf  \\\n",
       "38953                No  {'contact': 0.0700751791176, 'on': 0.090449606...   \n",
       "1483                 No  {'contact': 0.112823766752, 'on': 0.0242712312...   \n",
       "56298                No  {'out': 0.0370250891269, '20': 0.077008891204,...   \n",
       "473                  No  {'out': 0.0595248735693, 'card': 0.06704259216...   \n",
       "41287                No  {'payment': 0.194436551916, 'them': 0.07956260...   \n",
       "21947                No  {'someone': 0.299187595373, 'number': 0.233137...   \n",
       "8308                 No  {'contact': 0.0697664167162, 'charging': 0.104...   \n",
       "54872                No  {'before': 0.0730475888639, 'me': 0.0340916697...   \n",
       "57244                No  {'before': 0.0818072139569, 'off': 0.074554097...   \n",
       "38658                No  {'employer': 0.08457053102, 'out': 0.039034937...   \n",
       "\n",
       "       predicted_consumer_disputed  \n",
       "38953                     0.060907  \n",
       "1483                      0.058684  \n",
       "56298                     0.057529  \n",
       "473                       0.057475  \n",
       "41287                     0.056435  \n",
       "21947                     0.056261  \n",
       "8308                      0.050612  \n",
       "54872                     0.049233  \n",
       "57244                     0.046927  \n",
       "38658                     0.043908  "
      ]
     },
     "execution_count": 157,
     "metadata": {},
     "output_type": "execute_result"
    }
   ],
   "source": [
    "Citi_complaints.tail(10)"
   ]
  },
  {
   "cell_type": "markdown",
   "metadata": {},
   "source": [
    "## 现在仔细看看一些评论："
   ]
  },
  {
   "cell_type": "code",
   "execution_count": 158,
   "metadata": {
    "collapsed": false
   },
   "outputs": [
    {
     "name": "stdout",
     "output_type": "stream",
     "text": [
      "I filed a complaint \" Qualified Written Request '' on XXXX/XXXX/2015 and received no response what so ever. Not even an acknowledgement of receipt from Citi Mortgage in reference to my escrow account and the illegal holding of my mortgage payment As per fax receipts all papers where received at the number given to me by Citi XXXX. supervisor. \n",
      "Please see attached documents for entire explanation. \n",
      "\n"
     ]
    }
   ],
   "source": [
    "print(Citi_complaints.iloc[0, Citi_complaints.columns.get_loc('consumer_complaint_narrative')])"
   ]
  },
  {
   "cell_type": "code",
   "execution_count": 159,
   "metadata": {
    "collapsed": false
   },
   "outputs": [
    {
     "name": "stdout",
     "output_type": "stream",
     "text": [
      "RE : Citi retaliatory closing of accts in good standing immediately after I blow the whistle on Citi 's suspicious fraudulent business practices. \n",
      "\n",
      "CITI : Your response \" As explained in our XXXX XXXX, 2015 letter, we maintain our right to close your accts at any time for any reason. \" XXXX : Your understanding of fed and state law is patently incorrect. No bank, including Citi, may close an acct for any reason if that reason is tantamount to discrimination or retaliation against a consumer for exercising his/her right to dispute a charge or complain of a bank 's fraudulent business practices, such as Citi discriminated and retaliated against me in the instant case. Citi asserts its mistaken assumption of absolute unqualified privilege in a federally regulated financial industry. \n",
      "\n",
      "Citi confirmed my accts were in excellent standing for yrs. Only after I complained about my suspicion of Citi 's fraud and lack of due process and due diligence re : my disputes did Citi close my acct w/o NOTICE, REASON, or GOOD FAITH. \n",
      "\n",
      "Furthermore, Citi has denied me due process and acted in bad faith by 1 ) repeatedly refusing to share merchant 's response and XXXX ) failing to provide me the opportunity to rebut it. 15 USC 1666, 1666i, and 1640 ( e ), 12 CFR 226.12 ( c ) and 226.13, California Civil Code at 1747 - 1748.95. Pursuant to fed and CA law, XXXX and even Citi 's policy, in a credit card dispute, the bank shall forward the merchant 's response. Here, Citi claims to have received a response from the merchant but Citi 1 ) never forwarded the merchant 's response to me, the consumer and therefore 2 ) denied me an opportunity to respond or further support my dispute for the chargeback. Citi admitted it failed to take these basic steps in chargeback and credit card dispute process. \n",
      "By failing to abide by fed/state laws and Visa/its own policies, Citi illegally 1 ) prohibited my right to pursue a chargeback for services that were in breach of a contract, 2 ) denied me due process, 3 ) failed to properly investigate a meritorious chargeback dispute, and then 4 ) retaliated when I asked for the merchant 's response and expressed my concerns about Citi 's fraudulent practices in its billing disputes dept. \n",
      "\n",
      "XX/XX/2015 : Thanks to CFPB, Citi finally provided the merchant 's response for the first time ever but CONTINUES TO DENY ME AN OPPORTUNITY TO RESPOND! I just learned that the merchant violated Health Info Portability and Accountability Act ( HIPAA ) by providing my private medical info to a bank!!!! And Citi withheld this violation and invasion of privacy from me for months. Citi must allow me TO RESPOND to this new info and continues to deny me due process in violation of fed/state law. Furthermore, a review of my Thank You point history revealed that Citi seized points which I earned via my Citigold Checking acct which is current and separate from credit cards! ILLEGAL! \n",
      "\n",
      "Citi closed my accts which it admits were in good standing in retaliation of my complaint that it engaged in fraudulent practices by using one of its employees ' names w/o her knowledge or consent in all of its dispute communications. Additionally, Citi 's illegal actions have caused my acct to be late which I have NEVER been. Citi has engaged in illegal harassing collection attempts by calling me early in the morning, late at night, and several times in an hr. I have documented Citi 's harassing calls. \n",
      "\n",
      "Citi has caused and continues to cause me economic harm when it illegally 1 ) confiscated {$700.00} Thank You points much of which I earned from my unrelated Citi GOLD CHECKING acct and 2 ) closing my acct which has ALREADY adversely affect my credit score and worthiness. Citi 's illegal retaliatory act caused my score to drop XXXX points in just a month! My involuntarily closed acct by Citi is the ONLY derogatory file on my ENTIRE credit report and has already caused me SEVERE financial hardship. \n",
      "\n"
     ]
    }
   ],
   "source": [
    "print(Citi_complaints.iloc[1, Citi_complaints.columns.get_loc('consumer_complaint_narrative')])"
   ]
  },
  {
   "cell_type": "code",
   "execution_count": null,
   "metadata": {
    "collapsed": true
   },
   "outputs": [],
   "source": []
  },
  {
   "cell_type": "code",
   "execution_count": 160,
   "metadata": {
    "collapsed": false
   },
   "outputs": [
    {
     "name": "stdout",
     "output_type": "stream",
     "text": [
      "I refinanced my previous loan with One Main Financial back in XXXX & I lost my job at the end of XXXX. I had been at my job for almost 5yrs. I had a payment due in XXXX & I immediately start receiving calls & I stated my situation but the calls persisted. While trying to obtain other employment, I was open & honest about my findings nut the calls got more frequently. I 've talked to several employees there but they started to get very unprofessional with their tone of voice, tactics & eventually threatened to sue plus continue to call. I 've gotten XXXX calls in XXXX day leaving messages & getting calls from different numbers at all times of the day & well into the late night harassing me. I answered strange numbers thinking it was an employer contacting me about a job & it turns out being them. I had just received a call from an unfamiliar number & it was them calling me stating I was n't being financially responsible, insisting on me selling my household items to pay them by tomorrow or they was threatening to sue. This type of behavior is uncalled for, irritating & very frustrating when I 'm putting forth every effort to find employment so I can take care of my financial responsibilities. \n",
      "\n"
     ]
    }
   ],
   "source": [
    "print(Citi_complaints.iloc[-1, Citi_complaints.columns.get_loc('consumer_complaint_narrative')])"
   ]
  },
  {
   "cell_type": "code",
   "execution_count": 161,
   "metadata": {
    "collapsed": false
   },
   "outputs": [
    {
     "name": "stdout",
     "output_type": "stream",
     "text": [
      "Harassing phone calls. I have never missed a payment but recently had XXXX surgery which requires months of recovery. I called them to explain my situation and since then I received phone calls constantly on my cell phone everyday. When asked to please stop calling, they said we ca n't because you 're on an automated call system. It took talking to XXXX reps. before XXXX of them agreed to take my number off. \n",
      "Since then they call my home phone at least XXXX times a day until I answer. This has become harassment now. I am at home trying to recover from my surgery and they just wo n't stop calling. \n",
      "\n"
     ]
    }
   ],
   "source": [
    "print(Citi_complaints.iloc[-2, Citi_complaints.columns.get_loc('consumer_complaint_narrative')])"
   ]
  },
  {
   "cell_type": "markdown",
   "metadata": {},
   "source": [
    "# 结束语： \n",
    "# 恭喜您！您已经掌握分类机器学习和自然语言处理的一些高级数据科学技术了！"
   ]
  },
  {
   "cell_type": "code",
   "execution_count": null,
   "metadata": {
    "collapsed": true
   },
   "outputs": [],
   "source": []
  },
  {
   "cell_type": "code",
   "execution_count": null,
   "metadata": {
    "collapsed": true
   },
   "outputs": [],
   "source": []
  }
 ],
 "metadata": {
  "kernelspec": {
   "display_name": "Python 3",
   "language": "python",
   "name": "python3"
  },
  "language_info": {
   "codemirror_mode": {
    "name": "ipython",
    "version": 3
   },
   "file_extension": ".py",
   "mimetype": "text/x-python",
   "name": "python",
   "nbconvert_exporter": "python",
   "pygments_lexer": "ipython3",
   "version": "3.5.1"
  }
 },
 "nbformat": 4,
 "nbformat_minor": 0
}
